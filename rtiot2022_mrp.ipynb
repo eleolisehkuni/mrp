{
  "nbformat": 4,
  "nbformat_minor": 0,
  "metadata": {
    "colab": {
      "provenance": [],
      "gpuType": "T4"
    },
    "kernelspec": {
      "name": "python3",
      "display_name": "Python 3"
    },
    "language_info": {
      "name": "python"
    },
    "accelerator": "GPU"
  },
  "cells": [
    {
      "cell_type": "markdown",
      "source": [
        "# Intrusion Detection in IoT Networks"
      ],
      "metadata": {
        "id": "tcsIvEbj-auy"
      }
    },
    {
      "cell_type": "markdown",
      "source": [
        "Install the required packages"
      ],
      "metadata": {
        "id": "9hir1Sv90taJ"
      }
    },
    {
      "cell_type": "code",
      "source": [
        "!nvidia-smi"
      ],
      "metadata": {
        "colab": {
          "base_uri": "https://localhost:8080/"
        },
        "id": "cMKvdLA677kc",
        "outputId": "bad3c3c0-0818-41da-e060-dafa9ca62642"
      },
      "execution_count": null,
      "outputs": [
        {
          "output_type": "stream",
          "name": "stdout",
          "text": [
            "Sat Aug  9 00:50:26 2025       \n",
            "+-----------------------------------------------------------------------------------------+\n",
            "| NVIDIA-SMI 550.54.15              Driver Version: 550.54.15      CUDA Version: 12.4     |\n",
            "|-----------------------------------------+------------------------+----------------------+\n",
            "| GPU  Name                 Persistence-M | Bus-Id          Disp.A | Volatile Uncorr. ECC |\n",
            "| Fan  Temp   Perf          Pwr:Usage/Cap |           Memory-Usage | GPU-Util  Compute M. |\n",
            "|                                         |                        |               MIG M. |\n",
            "|=========================================+========================+======================|\n",
            "|   0  Tesla T4                       Off |   00000000:00:04.0 Off |                    0 |\n",
            "| N/A   35C    P8              9W /   70W |       0MiB /  15360MiB |      0%      Default |\n",
            "|                                         |                        |                  N/A |\n",
            "+-----------------------------------------+------------------------+----------------------+\n",
            "                                                                                         \n",
            "+-----------------------------------------------------------------------------------------+\n",
            "| Processes:                                                                              |\n",
            "|  GPU   GI   CI        PID   Type   Process name                              GPU Memory |\n",
            "|        ID   ID                                                               Usage      |\n",
            "|=========================================================================================|\n",
            "|  No running processes found                                                             |\n",
            "+-----------------------------------------------------------------------------------------+\n"
          ]
        }
      ]
    },
    {
      "cell_type": "code",
      "metadata": {
        "colab": {
          "base_uri": "https://localhost:8080/"
        },
        "id": "9d51a56b",
        "outputId": "d5cd4937-8f27-4557-8577-0b83c79e2d4e"
      },
      "source": [
        "!python3 -m venv --without-pip tf\n",
        "!source tf/bin/activate && pip install pip"
      ],
      "execution_count": null,
      "outputs": [
        {
          "output_type": "stream",
          "name": "stdout",
          "text": [
            "Requirement already satisfied: pip in /usr/local/lib/python3.11/dist-packages (25.2)\n"
          ]
        }
      ]
    },
    {
      "cell_type": "code",
      "metadata": {
        "id": "e66174cb"
      },
      "source": [
        "!source tf/bin/activate"
      ],
      "execution_count": null,
      "outputs": []
    },
    {
      "cell_type": "code",
      "source": [
        "!pip install --upgrade pip"
      ],
      "metadata": {
        "colab": {
          "base_uri": "https://localhost:8080/"
        },
        "id": "zaHocJM_6iAG",
        "outputId": "ebb2c20c-aa7b-4f94-88e3-022b8f8902ab"
      },
      "execution_count": null,
      "outputs": [
        {
          "output_type": "stream",
          "name": "stdout",
          "text": [
            "Requirement already satisfied: pip in /usr/local/lib/python3.11/dist-packages (25.2)\n"
          ]
        }
      ]
    },
    {
      "cell_type": "code",
      "source": [
        "!pip install tensorflow[and-cuda]"
      ],
      "metadata": {
        "colab": {
          "base_uri": "https://localhost:8080/"
        },
        "id": "hjZ3XZ5s6uAd",
        "outputId": "46d12207-ca9a-4ab5-f09f-0ed8a3c01a9f"
      },
      "execution_count": null,
      "outputs": [
        {
          "output_type": "stream",
          "name": "stdout",
          "text": [
            "Requirement already satisfied: tensorflow[and-cuda] in /usr/local/lib/python3.11/dist-packages (2.19.0)\n",
            "Requirement already satisfied: absl-py>=1.0.0 in /usr/local/lib/python3.11/dist-packages (from tensorflow[and-cuda]) (1.4.0)\n",
            "Requirement already satisfied: astunparse>=1.6.0 in /usr/local/lib/python3.11/dist-packages (from tensorflow[and-cuda]) (1.6.3)\n",
            "Requirement already satisfied: flatbuffers>=24.3.25 in /usr/local/lib/python3.11/dist-packages (from tensorflow[and-cuda]) (25.2.10)\n",
            "Requirement already satisfied: gast!=0.5.0,!=0.5.1,!=0.5.2,>=0.2.1 in /usr/local/lib/python3.11/dist-packages (from tensorflow[and-cuda]) (0.6.0)\n",
            "Requirement already satisfied: google-pasta>=0.1.1 in /usr/local/lib/python3.11/dist-packages (from tensorflow[and-cuda]) (0.2.0)\n",
            "Requirement already satisfied: libclang>=13.0.0 in /usr/local/lib/python3.11/dist-packages (from tensorflow[and-cuda]) (18.1.1)\n",
            "Requirement already satisfied: opt-einsum>=2.3.2 in /usr/local/lib/python3.11/dist-packages (from tensorflow[and-cuda]) (3.4.0)\n",
            "Requirement already satisfied: packaging in /usr/local/lib/python3.11/dist-packages (from tensorflow[and-cuda]) (25.0)\n",
            "Requirement already satisfied: protobuf!=4.21.0,!=4.21.1,!=4.21.2,!=4.21.3,!=4.21.4,!=4.21.5,<6.0.0dev,>=3.20.3 in /usr/local/lib/python3.11/dist-packages (from tensorflow[and-cuda]) (5.29.5)\n",
            "Requirement already satisfied: requests<3,>=2.21.0 in /usr/local/lib/python3.11/dist-packages (from tensorflow[and-cuda]) (2.32.3)\n",
            "Requirement already satisfied: setuptools in /usr/local/lib/python3.11/dist-packages (from tensorflow[and-cuda]) (75.2.0)\n",
            "Requirement already satisfied: six>=1.12.0 in /usr/local/lib/python3.11/dist-packages (from tensorflow[and-cuda]) (1.17.0)\n",
            "Requirement already satisfied: termcolor>=1.1.0 in /usr/local/lib/python3.11/dist-packages (from tensorflow[and-cuda]) (3.1.0)\n",
            "Requirement already satisfied: typing-extensions>=3.6.6 in /usr/local/lib/python3.11/dist-packages (from tensorflow[and-cuda]) (4.14.1)\n",
            "Requirement already satisfied: wrapt>=1.11.0 in /usr/local/lib/python3.11/dist-packages (from tensorflow[and-cuda]) (1.17.2)\n",
            "Requirement already satisfied: grpcio<2.0,>=1.24.3 in /usr/local/lib/python3.11/dist-packages (from tensorflow[and-cuda]) (1.74.0)\n",
            "Requirement already satisfied: tensorboard~=2.19.0 in /usr/local/lib/python3.11/dist-packages (from tensorflow[and-cuda]) (2.19.0)\n",
            "Requirement already satisfied: keras>=3.5.0 in /usr/local/lib/python3.11/dist-packages (from tensorflow[and-cuda]) (3.10.0)\n",
            "Requirement already satisfied: numpy<2.2.0,>=1.26.0 in /root/.local/lib/python3.11/site-packages (from tensorflow[and-cuda]) (1.26.4)\n",
            "Requirement already satisfied: h5py>=3.11.0 in /usr/local/lib/python3.11/dist-packages (from tensorflow[and-cuda]) (3.14.0)\n",
            "Requirement already satisfied: ml-dtypes<1.0.0,>=0.5.1 in /usr/local/lib/python3.11/dist-packages (from tensorflow[and-cuda]) (0.5.3)\n",
            "Requirement already satisfied: tensorflow-io-gcs-filesystem>=0.23.1 in /usr/local/lib/python3.11/dist-packages (from tensorflow[and-cuda]) (0.37.1)\n",
            "Requirement already satisfied: nvidia-cublas-cu12==12.5.3.2 in /usr/local/lib/python3.11/dist-packages (from tensorflow[and-cuda]) (12.5.3.2)\n",
            "Requirement already satisfied: nvidia-cuda-cupti-cu12==12.5.82 in /usr/local/lib/python3.11/dist-packages (from tensorflow[and-cuda]) (12.5.82)\n",
            "Requirement already satisfied: nvidia-cuda-nvcc-cu12==12.5.82 in /usr/local/lib/python3.11/dist-packages (from tensorflow[and-cuda]) (12.5.82)\n",
            "Requirement already satisfied: nvidia-cuda-nvrtc-cu12==12.5.82 in /usr/local/lib/python3.11/dist-packages (from tensorflow[and-cuda]) (12.5.82)\n",
            "Requirement already satisfied: nvidia-cuda-runtime-cu12==12.5.82 in /usr/local/lib/python3.11/dist-packages (from tensorflow[and-cuda]) (12.5.82)\n",
            "Requirement already satisfied: nvidia-cudnn-cu12==9.3.0.75 in /usr/local/lib/python3.11/dist-packages (from tensorflow[and-cuda]) (9.3.0.75)\n",
            "Requirement already satisfied: nvidia-cufft-cu12==11.2.3.61 in /usr/local/lib/python3.11/dist-packages (from tensorflow[and-cuda]) (11.2.3.61)\n",
            "Requirement already satisfied: nvidia-curand-cu12==10.3.6.82 in /usr/local/lib/python3.11/dist-packages (from tensorflow[and-cuda]) (10.3.6.82)\n",
            "Requirement already satisfied: nvidia-cusolver-cu12==11.6.3.83 in /usr/local/lib/python3.11/dist-packages (from tensorflow[and-cuda]) (11.6.3.83)\n",
            "Requirement already satisfied: nvidia-cusparse-cu12==12.5.1.3 in /usr/local/lib/python3.11/dist-packages (from tensorflow[and-cuda]) (12.5.1.3)\n",
            "Requirement already satisfied: nvidia-nccl-cu12==2.23.4 in /usr/local/lib/python3.11/dist-packages (from tensorflow[and-cuda]) (2.23.4)\n",
            "Requirement already satisfied: nvidia-nvjitlink-cu12==12.5.82 in /usr/local/lib/python3.11/dist-packages (from tensorflow[and-cuda]) (12.5.82)\n",
            "Requirement already satisfied: charset-normalizer<4,>=2 in /usr/local/lib/python3.11/dist-packages (from requests<3,>=2.21.0->tensorflow[and-cuda]) (3.4.2)\n",
            "Requirement already satisfied: idna<4,>=2.5 in /usr/local/lib/python3.11/dist-packages (from requests<3,>=2.21.0->tensorflow[and-cuda]) (3.10)\n",
            "Requirement already satisfied: urllib3<3,>=1.21.1 in /usr/local/lib/python3.11/dist-packages (from requests<3,>=2.21.0->tensorflow[and-cuda]) (2.5.0)\n",
            "Requirement already satisfied: certifi>=2017.4.17 in /usr/local/lib/python3.11/dist-packages (from requests<3,>=2.21.0->tensorflow[and-cuda]) (2025.8.3)\n",
            "Requirement already satisfied: markdown>=2.6.8 in /usr/local/lib/python3.11/dist-packages (from tensorboard~=2.19.0->tensorflow[and-cuda]) (3.8.2)\n",
            "Requirement already satisfied: tensorboard-data-server<0.8.0,>=0.7.0 in /usr/local/lib/python3.11/dist-packages (from tensorboard~=2.19.0->tensorflow[and-cuda]) (0.7.2)\n",
            "Requirement already satisfied: werkzeug>=1.0.1 in /usr/local/lib/python3.11/dist-packages (from tensorboard~=2.19.0->tensorflow[and-cuda]) (3.1.3)\n",
            "Requirement already satisfied: wheel<1.0,>=0.23.0 in /usr/local/lib/python3.11/dist-packages (from astunparse>=1.6.0->tensorflow[and-cuda]) (0.45.1)\n",
            "Requirement already satisfied: rich in /usr/local/lib/python3.11/dist-packages (from keras>=3.5.0->tensorflow[and-cuda]) (13.9.4)\n",
            "Requirement already satisfied: namex in /usr/local/lib/python3.11/dist-packages (from keras>=3.5.0->tensorflow[and-cuda]) (0.1.0)\n",
            "Requirement already satisfied: optree in /usr/local/lib/python3.11/dist-packages (from keras>=3.5.0->tensorflow[and-cuda]) (0.17.0)\n",
            "Requirement already satisfied: MarkupSafe>=2.1.1 in /usr/local/lib/python3.11/dist-packages (from werkzeug>=1.0.1->tensorboard~=2.19.0->tensorflow[and-cuda]) (3.0.2)\n",
            "Requirement already satisfied: markdown-it-py>=2.2.0 in /usr/local/lib/python3.11/dist-packages (from rich->keras>=3.5.0->tensorflow[and-cuda]) (3.0.0)\n",
            "Requirement already satisfied: pygments<3.0.0,>=2.13.0 in /usr/local/lib/python3.11/dist-packages (from rich->keras>=3.5.0->tensorflow[and-cuda]) (2.19.2)\n",
            "Requirement already satisfied: mdurl~=0.1 in /usr/local/lib/python3.11/dist-packages (from markdown-it-py>=2.2.0->rich->keras>=3.5.0->tensorflow[and-cuda]) (0.1.2)\n"
          ]
        }
      ]
    },
    {
      "cell_type": "code",
      "source": [
        "!python3 -c \"import tensorflow as tf; print(tf.config.list_physical_devices('GPU'))\""
      ],
      "metadata": {
        "colab": {
          "base_uri": "https://localhost:8080/"
        },
        "id": "Id-yKZeE61qc",
        "outputId": "11834d1d-f023-4c9b-cca7-6a362a61447e"
      },
      "execution_count": null,
      "outputs": [
        {
          "output_type": "stream",
          "name": "stdout",
          "text": [
            "2025-08-09 00:52:01.124455: E external/local_xla/xla/stream_executor/cuda/cuda_fft.cc:467] Unable to register cuFFT factory: Attempting to register factory for plugin cuFFT when one has already been registered\n",
            "WARNING: All log messages before absl::InitializeLog() is called are written to STDERR\n",
            "E0000 00:00:1754700721.161870    3238 cuda_dnn.cc:8579] Unable to register cuDNN factory: Attempting to register factory for plugin cuDNN when one has already been registered\n",
            "E0000 00:00:1754700721.172790    3238 cuda_blas.cc:1407] Unable to register cuBLAS factory: Attempting to register factory for plugin cuBLAS when one has already been registered\n",
            "W0000 00:00:1754700721.198956    3238 computation_placer.cc:177] computation placer already registered. Please check linkage and avoid linking the same target more than once.\n",
            "W0000 00:00:1754700721.199014    3238 computation_placer.cc:177] computation placer already registered. Please check linkage and avoid linking the same target more than once.\n",
            "W0000 00:00:1754700721.199024    3238 computation_placer.cc:177] computation placer already registered. Please check linkage and avoid linking the same target more than once.\n",
            "W0000 00:00:1754700721.199031    3238 computation_placer.cc:177] computation placer already registered. Please check linkage and avoid linking the same target more than once.\n",
            "2025-08-09 00:52:01.206787: I tensorflow/core/platform/cpu_feature_guard.cc:210] This TensorFlow binary is optimized to use available CPU instructions in performance-critical operations.\n",
            "To enable the following instructions: AVX2 FMA, in other operations, rebuild TensorFlow with the appropriate compiler flags.\n",
            "[PhysicalDevice(name='/physical_device:GPU:0', device_type='GPU')]\n"
          ]
        }
      ]
    },
    {
      "cell_type": "markdown",
      "source": [
        "### Install TensorFlow Model Optimization"
      ],
      "metadata": {
        "id": "gUOSOoRi9U-b"
      }
    },
    {
      "cell_type": "code",
      "source": [
        "!pip install --user --upgrade tensorflow-model-optimization"
      ],
      "metadata": {
        "colab": {
          "base_uri": "https://localhost:8080/"
        },
        "id": "tJemX-bS9Yg0",
        "outputId": "1d98b75a-d8ce-4c33-e770-470a5250468a"
      },
      "execution_count": null,
      "outputs": [
        {
          "output_type": "stream",
          "name": "stdout",
          "text": [
            "Requirement already satisfied: tensorflow-model-optimization in /root/.local/lib/python3.11/site-packages (0.8.0)\n",
            "Requirement already satisfied: absl-py~=1.2 in /usr/local/lib/python3.11/dist-packages (from tensorflow-model-optimization) (1.4.0)\n",
            "Requirement already satisfied: dm-tree~=0.1.1 in /usr/local/lib/python3.11/dist-packages (from tensorflow-model-optimization) (0.1.9)\n",
            "Requirement already satisfied: numpy~=1.23 in /root/.local/lib/python3.11/site-packages (from tensorflow-model-optimization) (1.26.4)\n",
            "Requirement already satisfied: six~=1.14 in /usr/local/lib/python3.11/dist-packages (from tensorflow-model-optimization) (1.17.0)\n",
            "Requirement already satisfied: attrs>=18.2.0 in /usr/local/lib/python3.11/dist-packages (from dm-tree~=0.1.1->tensorflow-model-optimization) (25.3.0)\n",
            "Requirement already satisfied: wrapt>=1.11.2 in /usr/local/lib/python3.11/dist-packages (from dm-tree~=0.1.1->tensorflow-model-optimization) (1.17.2)\n"
          ]
        }
      ]
    },
    {
      "cell_type": "code",
      "source": [
        "import pandas as pd\n",
        "from sklearn.preprocessing import StandardScaler\n",
        "\n",
        "# Load the dataset\n",
        "df = pd.read_csv('/content/RT_IOT2022_v1.csv')\n",
        "\n",
        "# Drop non-numeric columns that shouldn't be scaled\n",
        "non_numeric_cols = ['proto', 'service', 'Attack_type']  # modify this list if needed\n",
        "numeric_df = df.drop(columns=non_numeric_cols)\n",
        "\n",
        "# Apply StandardScaler\n",
        "scaler = StandardScaler()\n",
        "X_scaled = scaler.fit_transform(numeric_df)\n",
        "\n",
        "# Convert back to DataFrame for clarity\n",
        "scaled_df = pd.DataFrame(X_scaled, columns=numeric_df.columns)\n",
        "\n",
        "# Optional: Display first few rows\n",
        "print(scaled_df.head())\n"
      ],
      "metadata": {
        "colab": {
          "base_uri": "https://localhost:8080/"
        },
        "id": "lkTNdxul2Ui2",
        "outputId": "fe64edb0-86f4-42c4-bd1b-c4205a6ae056"
      },
      "execution_count": null,
      "outputs": [
        {
          "output_type": "stream",
          "name": "stdout",
          "text": [
            "         no  id.orig_p  id.resp_p  flow_duration  fwd_pkts_tot  bwd_pkts_tot  \\\n",
            "0 -1.215900   0.211202   0.165266       0.216931      0.301353        0.0936   \n",
            "1 -1.215868   0.865405   0.165266       0.215946      0.301353        0.0936   \n",
            "2 -1.215835   0.530753   0.165266       0.217796      0.301353        0.0936   \n",
            "3 -1.215802   1.376665   0.165266       0.216542      0.301353        0.0936   \n",
            "4 -1.215769   0.862468   0.165266       0.216090      0.301353        0.0936   \n",
            "\n",
            "   fwd_data_pkts_tot  bwd_data_pkts_tot  fwd_pkts_per_sec  bwd_pkts_per_sec  \\\n",
            "0            0.07786           0.067497          -0.94887         -0.948656   \n",
            "1            0.07786           0.067497          -0.94887         -0.948656   \n",
            "2            0.07786           0.067497          -0.94887         -0.948656   \n",
            "3            0.07786           0.067497          -0.94887         -0.948656   \n",
            "4            0.07786           0.067497          -0.94887         -0.948656   \n",
            "\n",
            "   ...  active.avg  active.std  idle.min  idle.max  idle.tot  idle.avg  \\\n",
            "0  ...    1.323174   -0.015925  3.191211  3.029218  0.213188  3.115811   \n",
            "1  ...    1.165636   -0.015925  3.205525  3.042846  0.214214  3.129811   \n",
            "2  ...    1.322857   -0.015925  3.204035  3.041427  0.214107  3.128353   \n",
            "3  ...    1.177404   -0.015925  3.212165  3.049169  0.214689  3.136306   \n",
            "4  ...    1.202431   -0.015925  3.200919  3.038461  0.213884  3.125306   \n",
            "\n",
            "   idle.std  fwd_init_window_size  bwd_init_window_size  fwd_last_window_size  \n",
            "0 -0.041693              3.105383              2.406197             -0.039563  \n",
            "1 -0.041693              3.105383              2.406197             -0.039563  \n",
            "2 -0.041693              3.105383              2.406197             -0.039563  \n",
            "3 -0.041693              3.105383              2.406197             -0.039563  \n",
            "4 -0.041693              3.105383              2.406197             -0.039563  \n",
            "\n",
            "[5 rows x 82 columns]\n"
          ]
        }
      ]
    },
    {
      "cell_type": "code",
      "source": [
        "# Define attack types\n",
        "benign_attacks = ['MQTT_Publish', 'Thing_Speak', 'Wipro_bulb']\n",
        "harmful_attacks = [\n",
        "    'DOS_SYN_Hping', 'ARP_poisioning', 'NMAP_UDP_SCAN',\n",
        "    'NMAP_XMAS_TREE_SCAN', 'NMAP_OS_DETECTION', 'NMAP_TCP_scan',\n",
        "    'DDOS_Slowloris', 'Metasploit_Brute_Force_SSH', 'NMAP_FIN_SCAN'\n",
        "]\n",
        "\n",
        "# Count occurrences\n",
        "benign_count = rtiot_df_v2['Attack_type'].isin(benign_attacks).sum()\n",
        "harmful_count = rtiot_df_v2['Attack_type'].isin(harmful_attacks).sum()\n",
        "\n",
        "# Output result\n",
        "print(f\"🟢 Number of benign attacks:  {benign_count}\")\n",
        "print(f\"🔴 Number of harmful attacks: {harmful_count}\")\n"
      ],
      "metadata": {
        "colab": {
          "base_uri": "https://localhost:8080/"
        },
        "id": "H5x5_GP48-2S",
        "outputId": "2e65b0ad-9082-4b51-825d-46be417543d6"
      },
      "execution_count": null,
      "outputs": [
        {
          "output_type": "stream",
          "name": "stdout",
          "text": [
            "🟢 Number of benign attacks:  12507\n",
            "🔴 Number of harmful attacks: 110610\n"
          ]
        }
      ]
    },
    {
      "cell_type": "markdown",
      "source": [
        "### Fix class imbalance with SMOTE- Logistic Regression"
      ],
      "metadata": {
        "id": "ASN0A2PBBGPB"
      }
    },
    {
      "cell_type": "code",
      "source": [
        "!pip install imblearn"
      ],
      "metadata": {
        "colab": {
          "base_uri": "https://localhost:8080/"
        },
        "id": "53i_J8z3-y4p",
        "outputId": "69ae82c3-9103-4e08-d3a8-51c8b8c6c19e"
      },
      "execution_count": null,
      "outputs": [
        {
          "output_type": "stream",
          "name": "stdout",
          "text": [
            "Collecting imblearn\n",
            "  Downloading imblearn-0.0-py2.py3-none-any.whl.metadata (355 bytes)\n",
            "Requirement already satisfied: imbalanced-learn in /usr/local/lib/python3.11/dist-packages (from imblearn) (0.13.0)\n",
            "Requirement already satisfied: numpy<3,>=1.24.3 in /root/.local/lib/python3.11/site-packages (from imbalanced-learn->imblearn) (1.26.4)\n",
            "Requirement already satisfied: scipy<2,>=1.10.1 in /usr/local/lib/python3.11/dist-packages (from imbalanced-learn->imblearn) (1.16.1)\n",
            "Requirement already satisfied: scikit-learn<2,>=1.3.2 in /usr/local/lib/python3.11/dist-packages (from imbalanced-learn->imblearn) (1.6.1)\n",
            "Requirement already satisfied: sklearn-compat<1,>=0.1 in /usr/local/lib/python3.11/dist-packages (from imbalanced-learn->imblearn) (0.1.3)\n",
            "Requirement already satisfied: joblib<2,>=1.1.1 in /usr/local/lib/python3.11/dist-packages (from imbalanced-learn->imblearn) (1.5.1)\n",
            "Requirement already satisfied: threadpoolctl<4,>=2.0.0 in /usr/local/lib/python3.11/dist-packages (from imbalanced-learn->imblearn) (3.6.0)\n",
            "Downloading imblearn-0.0-py2.py3-none-any.whl (1.9 kB)\n",
            "Installing collected packages: imblearn\n",
            "Successfully installed imblearn-0.0\n"
          ]
        }
      ]
    },
    {
      "cell_type": "markdown",
      "source": [
        "Logistic Regression model (Baseline Model)"
      ],
      "metadata": {
        "id": "eRV7hD0G2EUW"
      }
    },
    {
      "cell_type": "code",
      "source": [
        "import pandas as pd\n",
        "import numpy as np\n",
        "from sklearn.preprocessing import StandardScaler\n",
        "from sklearn.model_selection import train_test_split\n",
        "from sklearn.linear_model import LogisticRegression\n",
        "from sklearn.metrics import classification_report, confusion_matrix\n",
        "from imblearn.over_sampling import SMOTE\n",
        "\n",
        "# Define attack categories ---\n",
        "benign_attacks = ['MQTT_Publish', 'Thing_Speak', 'Wipro_bulb']\n",
        "harmful_attacks = [\n",
        "    'DOS_SYN_Hping', 'ARP_poisioning', 'NMAP_UDP_SCAN',\n",
        "    'NMAP_XMAS_TREE_SCAN', 'NMAP_OS_DETECTION', 'NMAP_TCP_scan',\n",
        "    'DDOS_Slowloris', 'Metasploit_Brute_Force_SSH', 'NMAP_FIN_SCAN'\n",
        "]\n",
        "\n",
        "# Create binary labels ---\n",
        "df['attack_label'] = df['Attack_type'].apply(\n",
        "    lambda x: 1 if x in harmful_attacks else (0 if x in benign_attacks else np.nan)\n",
        ")\n",
        "df = df.dropna(subset=['attack_label'])  # drop undefined samples\n",
        "y = df['attack_label'].astype(int)\n",
        "\n",
        "# Select numeric features and scale them ---\n",
        "non_features = ['proto', 'service', 'Attack_type', 'attack_label']\n",
        "X_raw = df.drop(columns=non_features)\n",
        "\n",
        "scaler = StandardScaler()\n",
        "X_scaled = scaler.fit_transform(X_raw)\n",
        "\n",
        "# Split into training and test sets ---\n",
        "X_train, X_test, y_train, y_test = train_test_split(\n",
        "    X_scaled, y, test_size=0.2, stratify=y, random_state=42\n",
        ")\n",
        "\n",
        "# Apply SMOTE to balance the training set ---\n",
        "smote = SMOTE(random_state=42)\n",
        "X_train_balanced, y_train_balanced = smote.fit_resample(X_train, y_train)\n",
        "\n",
        "# Train a Logistic Regression model ---\n",
        "clf = LogisticRegression(max_iter=1000)\n",
        "clf.fit(X_train_balanced, y_train_balanced)\n",
        "\n",
        "# Evaluate on the test set ---\n",
        "y_pred = clf.predict(X_test)\n",
        "\n",
        "print(\"\\n📊 Classification Report:\")\n",
        "print(classification_report(y_test, y_pred, target_names=[\"Benign\", \"Harmful\"]))\n",
        "\n",
        "print(\"\\n🧩 Confusion Matrix:\")\n",
        "print(confusion_matrix(y_test, y_pred))\n"
      ],
      "metadata": {
        "colab": {
          "base_uri": "https://localhost:8080/"
        },
        "id": "_xpTU0QMBPQP",
        "outputId": "f906069d-9d84-4785-cec6-8136d7ab629a"
      },
      "execution_count": null,
      "outputs": [
        {
          "output_type": "stream",
          "name": "stdout",
          "text": [
            "\n",
            "📊 Classification Report:\n",
            "              precision    recall  f1-score   support\n",
            "\n",
            "      Benign       0.80      0.98      0.88      2501\n",
            "     Harmful       1.00      0.97      0.98     22123\n",
            "\n",
            "    accuracy                           0.97     24624\n",
            "   macro avg       0.90      0.98      0.93     24624\n",
            "weighted avg       0.98      0.97      0.97     24624\n",
            "\n",
            "\n",
            "🧩 Confusion Matrix:\n",
            "[[ 2462    39]\n",
            " [  621 21502]]\n"
          ]
        }
      ]
    },
    {
      "cell_type": "markdown",
      "source": [
        "Random Forest"
      ],
      "metadata": {
        "id": "ytplDskFx3Fw"
      }
    },
    {
      "cell_type": "code",
      "source": [
        "# Random Forest Multiclass Classification\n",
        "\n",
        "import pandas as pd\n",
        "import numpy as np\n",
        "from sklearn.preprocessing import StandardScaler, LabelEncoder\n",
        "from sklearn.model_selection import train_test_split\n",
        "from sklearn.ensemble import RandomForestClassifier\n",
        "from sklearn.metrics import classification_report, confusion_matrix\n",
        "from sklearn.utils.class_weight import compute_class_weight\n",
        "import joblib\n",
        "\n",
        "# Load + shuffle\n",
        "df = pd.read_csv('/content/RT_IOT2022_v1.csv')\n",
        "df = df.sample(frac=1, random_state=42).reset_index(drop=True)\n",
        "\n",
        "valid_attacks = [\n",
        "    'MQTT_Publish', 'Thing_Speak', 'Wipro_bulb',            # benign\n",
        "    'DOS_SYN_Hping', 'ARP_poisioning', 'NMAP_UDP_SCAN',\n",
        "    'NMAP_XMAS_TREE_SCAN', 'NMAP_OS_DETECTION', 'NMAP_TCP_scan',\n",
        "    'DDOS_Slowloris', 'Metasploit_Brute_Force_SSH', 'NMAP_FIN_SCAN'  # harmful\n",
        "]\n",
        "df = df[df['Attack_type'].isin(valid_attacks)].copy()\n",
        "\n",
        "# Labels (multiclass)\n",
        "le = LabelEncoder()\n",
        "df['attack_label'] = le.fit_transform(df['Attack_type'])\n",
        "y = df['attack_label'].values\n",
        "num_classes = len(le.classes_)\n",
        "\n",
        "# Features + scaling\n",
        "non_features = ['proto', 'service', 'Attack_type', 'attack_label']\n",
        "X_raw = df.drop(columns=non_features)\n",
        "\n",
        "scaler = StandardScaler()\n",
        "X_scaled = scaler.fit_transform(X_raw)\n",
        "\n",
        "# Save scaler for later use\n",
        "joblib.dump(scaler, 'scaler_rf.joblib')\n",
        "\n",
        "# Train/val/test split\n",
        "X_temp, X_test, y_temp, y_test = train_test_split(\n",
        "    X_scaled, y, test_size=0.20, stratify=y, random_state=42\n",
        ")\n",
        "X_train, X_val, y_train, y_val = train_test_split(\n",
        "    X_temp, y_temp, test_size=0.25, stratify=y_temp, random_state=42\n",
        ")  # 60/20/20\n",
        "\n",
        "# Class weights (helps rare classes)\n",
        "class_weights = compute_class_weight(\n",
        "    class_weight='balanced',\n",
        "    classes=np.unique(y_train),\n",
        "    y=y_train\n",
        ")\n",
        "class_weight_dict = {i: w for i, w in enumerate(class_weights)}\n",
        "\n",
        "# Train Random Forest\n",
        "rf = RandomForestClassifier(\n",
        "    n_estimators=200,\n",
        "    max_depth=None,\n",
        "    random_state=42,\n",
        "    class_weight=class_weight_dict,\n",
        "    n_jobs=-1\n",
        ")\n",
        "\n",
        "rf.fit(X_train, y_train)\n",
        "\n",
        "# Evaluate\n",
        "y_pred = rf.predict(X_test)\n",
        "\n",
        "print(\"\\n📊 Classification Report (Random Forest):\")\n",
        "print(classification_report(y_test, y_pred, target_names=le.classes_))\n",
        "\n",
        "print(\"\\n🧩 Confusion Matrix:\")\n",
        "print(confusion_matrix(y_test, y_pred))\n",
        "\n",
        "# Save model\n",
        "joblib.dump(rf, 'random_forest_model.joblib')\n",
        "print(\"\\n✅ Random Forest model saved as 'random_forest_model.joblib'.\")\n",
        "\n",
        "# Feature Importance\n",
        "import matplotlib.pyplot as plt\n",
        "\n",
        "importances = rf.feature_importances_\n",
        "indices = np.argsort(importances)[::-1]\n",
        "\n",
        "plt.figure(figsize=(10, 6))\n",
        "plt.title(\"Random Forest Feature Importances\")\n",
        "plt.bar(range(X_raw.shape[1]), importances[indices], align=\"center\")\n",
        "plt.xticks(range(X_raw.shape[1]), X_raw.columns[indices], rotation=90)\n",
        "plt.tight_layout()\n",
        "plt.show()"
      ],
      "metadata": {
        "colab": {
          "base_uri": "https://localhost:8080/",
          "height": 1000
        },
        "id": "7__OGXH5mDYe",
        "outputId": "e3638b3b-4004-4494-eae2-d1432e804050"
      },
      "execution_count": null,
      "outputs": [
        {
          "output_type": "stream",
          "name": "stdout",
          "text": [
            "\n",
            "📊 Classification Report (Random Forest):\n",
            "                            precision    recall  f1-score   support\n",
            "\n",
            "            ARP_poisioning       0.99      1.00      0.99      1550\n",
            "            DDOS_Slowloris       0.93      0.95      0.94       107\n",
            "             DOS_SYN_Hping       1.00      1.00      1.00     18932\n",
            "              MQTT_Publish       1.00      1.00      1.00       829\n",
            "Metasploit_Brute_Force_SSH       1.00      0.86      0.92         7\n",
            "             NMAP_FIN_SCAN       1.00      0.67      0.80         6\n",
            "         NMAP_OS_DETECTION       1.00      1.00      1.00       400\n",
            "             NMAP_TCP_scan       1.00      1.00      1.00       200\n",
            "             NMAP_UDP_SCAN       0.99      0.98      0.99       518\n",
            "       NMAP_XMAS_TREE_SCAN       1.00      1.00      1.00       402\n",
            "               Thing_Speak       1.00      0.99      1.00      1622\n",
            "                Wipro_bulb       1.00      0.98      0.99        51\n",
            "\n",
            "                  accuracy                           1.00     24624\n",
            "                 macro avg       0.99      0.95      0.97     24624\n",
            "              weighted avg       1.00      1.00      1.00     24624\n",
            "\n",
            "\n",
            "🧩 Confusion Matrix:\n",
            "[[ 1545     0     0     0     0     0     0     0     1     0     4     0]\n",
            " [    1   102     0     0     0     0     0     0     4     0     0     0]\n",
            " [    0     0 18932     0     0     0     0     0     0     0     0     0]\n",
            " [    2     0     0   827     0     0     0     0     0     0     0     0]\n",
            " [    0     1     0     0     6     0     0     0     0     0     0     0]\n",
            " [    1     0     0     0     0     4     0     0     0     0     1     0]\n",
            " [    0     0     0     0     0     0   400     0     0     0     0     0]\n",
            " [    0     0     0     0     0     0     0   200     0     0     0     0]\n",
            " [    2     7     0     0     0     0     0     0   509     0     0     0]\n",
            " [    1     0     0     0     0     0     0     0     0   401     0     0]\n",
            " [    9     0     0     0     0     0     0     0     0     0  1613     0]\n",
            " [    0     0     0     0     0     0     0     0     0     0     1    50]]\n",
            "\n",
            "✅ Random Forest model saved as 'random_forest_model.joblib'.\n"
          ]
        },
        {
          "output_type": "display_data",
          "data": {
            "text/plain": [
              "<Figure size 1000x600 with 1 Axes>"
            ],
            "image/png": "[encoded data removed]"
          },
          "metadata": {}
        }
      ]
    },
    {
      "cell_type": "markdown",
      "source": [
        "MLP Classifier Code with SMOTE and Evaluation"
      ],
      "metadata": {
        "id": "ZzNv1Nf5ERDm"
      }
    },
    {
      "cell_type": "code",
      "source": [
        "import pandas as pd\n",
        "import numpy as np\n",
        "from sklearn.preprocessing import StandardScaler\n",
        "from sklearn.model_selection import train_test_split\n",
        "from sklearn.metrics import classification_report, confusion_matrix\n",
        "from imblearn.over_sampling import SMOTE\n",
        "import tensorflow as tf\n",
        "from tensorflow.keras import layers, models, callbacks\n",
        "\n",
        "# Load dataset ---\n",
        "df = pd.read_csv('/content/RT_IOT2022_v1.csv')\n",
        "\n",
        "# Define attack types ---\n",
        "benign_attacks = ['MQTT_Publish', 'Thing_Speak', 'Wipro_bulb']\n",
        "harmful_attacks = [\n",
        "    'DOS_SYN_Hping', 'ARP_poisioning', 'NMAP_UDP_SCAN',\n",
        "    'NMAP_XMAS_TREE_SCAN', 'NMAP_OS_DETECTION', 'NMAP_TCP_scan',\n",
        "    'DDOS_Slowloris', 'Metasploit_Brute_Force_SSH', 'NMAP_FIN_SCAN'\n",
        "]\n",
        "\n",
        "# Create binary label ---\n",
        "df['attack_label'] = df['Attack_type'].apply(\n",
        "    lambda x: 1 if x in harmful_attacks else (0 if x in benign_attacks else np.nan)\n",
        ")\n",
        "df = df.dropna(subset=['attack_label'])\n",
        "y = df['attack_label'].astype(int)\n",
        "\n",
        "# Prepare features ---\n",
        "non_features = ['proto', 'service', 'Attack_type', 'attack_label']\n",
        "X_raw = df.drop(columns=non_features)\n",
        "\n",
        "scaler = StandardScaler()\n",
        "X_scaled = scaler.fit_transform(X_raw)\n",
        "\n",
        "# Train-test split ---\n",
        "X_train, X_test, y_train, y_test = train_test_split(\n",
        "    X_scaled, y, test_size=0.2, stratify=y, random_state=42\n",
        ")\n",
        "\n",
        "# Apply SMOTE ---\n",
        "smote = SMOTE(random_state=42)\n",
        "X_train_balanced, y_train_balanced = smote.fit_resample(X_train, y_train)\n",
        "\n",
        "# Build MLP Model ---\n",
        "model = models.Sequential([\n",
        "    layers.Input(shape=(X_train.shape[1],)),\n",
        "    layers.Dense(128, activation='relu'),\n",
        "    layers.Dropout(0.3),\n",
        "    layers.Dense(64, activation='relu'),\n",
        "    layers.Dropout(0.3),\n",
        "    layers.Dense(1, activation='sigmoid')  # Binary classification\n",
        "])\n",
        "\n",
        "model.compile(optimizer='adam', loss='binary_crossentropy', metrics=['accuracy'])\n",
        "\n",
        "# Train Model with EarlyStopping ---\n",
        "early_stop = callbacks.EarlyStopping(monitor='val_loss', patience=5, restore_best_weights=True)\n",
        "\n",
        "history = model.fit(\n",
        "    X_train_balanced, y_train_balanced,\n",
        "    validation_split=0.2,\n",
        "    epochs=50,\n",
        "    batch_size=32,\n",
        "    callbacks=[early_stop],\n",
        "    verbose=1\n",
        ")\n",
        "\n",
        "# Evaluation ---\n",
        "y_pred_probs = model.predict(X_test)\n",
        "y_pred = (y_pred_probs > 0.5).astype(int)\n",
        "\n",
        "print(\"\\n📊 Classification Report:\")\n",
        "print(classification_report(y_test, y_pred, target_names=[\"Benign\", \"Harmful\"]))\n",
        "\n",
        "print(\"\\n🧩 Confusion Matrix:\")\n",
        "print(confusion_matrix(y_test, y_pred))\n"
      ],
      "metadata": {
        "colab": {
          "base_uri": "https://localhost:8080/"
        },
        "id": "0SnpX-7sBtDw",
        "outputId": "8d5e5af1-7049-4dc7-8062-3a151c5aa2fe"
      },
      "execution_count": null,
      "outputs": [
        {
          "output_type": "stream",
          "name": "stdout",
          "text": [
            "Epoch 1/50\n",
            "\u001b[1m4425/4425\u001b[0m \u001b[32m━━━━━━━━━━━━━━━━━━━━\u001b[0m\u001b[37m\u001b[0m \u001b[1m21s\u001b[0m 4ms/step - accuracy: 0.9673 - loss: 0.1001 - val_accuracy: 0.9917 - val_loss: 0.0343\n",
            "Epoch 2/50\n",
            "\u001b[1m4425/4425\u001b[0m \u001b[32m━━━━━━━━━━━━━━━━━━━━\u001b[0m\u001b[37m\u001b[0m \u001b[1m13s\u001b[0m 3ms/step - accuracy: 0.9907 - loss: 0.0293 - val_accuracy: 0.9954 - val_loss: 0.0200\n",
            "Epoch 3/50\n",
            "\u001b[1m4425/4425\u001b[0m \u001b[32m━━━━━━━━━━━━━━━━━━━━\u001b[0m\u001b[37m\u001b[0m \u001b[1m21s\u001b[0m 3ms/step - accuracy: 0.9942 - loss: 0.0197 - val_accuracy: 0.9971 - val_loss: 0.0164\n",
            "Epoch 4/50\n",
            "\u001b[1m4425/4425\u001b[0m \u001b[32m━━━━━━━━━━━━━━━━━━━━\u001b[0m\u001b[37m\u001b[0m \u001b[1m21s\u001b[0m 3ms/step - accuracy: 0.9950 - loss: 0.0170 - val_accuracy: 0.9974 - val_loss: 0.0121\n",
            "Epoch 5/50\n",
            "\u001b[1m4425/4425\u001b[0m \u001b[32m━━━━━━━━━━━━━━━━━━━━\u001b[0m\u001b[37m\u001b[0m \u001b[1m13s\u001b[0m 3ms/step - accuracy: 0.9950 - loss: 0.0175 - val_accuracy: 0.9985 - val_loss: 0.0101\n",
            "Epoch 6/50\n",
            "\u001b[1m4425/4425\u001b[0m \u001b[32m━━━━━━━━━━━━━━━━━━━━\u001b[0m\u001b[37m\u001b[0m \u001b[1m14s\u001b[0m 3ms/step - accuracy: 0.9952 - loss: 0.0150 - val_accuracy: 0.9978 - val_loss: 0.0135\n",
            "Epoch 7/50\n",
            "\u001b[1m4425/4425\u001b[0m \u001b[32m━━━━━━━━━━━━━━━━━━━━\u001b[0m\u001b[37m\u001b[0m \u001b[1m21s\u001b[0m 3ms/step - accuracy: 0.9955 - loss: 0.0150 - val_accuracy: 0.9976 - val_loss: 0.0143\n",
            "Epoch 8/50\n",
            "\u001b[1m4425/4425\u001b[0m \u001b[32m━━━━━━━━━━━━━━━━━━━━\u001b[0m\u001b[37m\u001b[0m \u001b[1m13s\u001b[0m 3ms/step - accuracy: 0.9956 - loss: 0.0150 - val_accuracy: 0.9973 - val_loss: 0.0118\n",
            "Epoch 9/50\n",
            "\u001b[1m4425/4425\u001b[0m \u001b[32m━━━━━━━━━━━━━━━━━━━━\u001b[0m\u001b[37m\u001b[0m \u001b[1m14s\u001b[0m 3ms/step - accuracy: 0.9959 - loss: 0.0166 - val_accuracy: 0.9987 - val_loss: 0.0087\n",
            "Epoch 10/50\n",
            "\u001b[1m4425/4425\u001b[0m \u001b[32m━━━━━━━━━━━━━━━━━━━━\u001b[0m\u001b[37m\u001b[0m \u001b[1m14s\u001b[0m 3ms/step - accuracy: 0.9963 - loss: 0.0129 - val_accuracy: 0.9975 - val_loss: 0.0119\n",
            "Epoch 11/50\n",
            "\u001b[1m4425/4425\u001b[0m \u001b[32m━━━━━━━━━━━━━━━━━━━━\u001b[0m\u001b[37m\u001b[0m \u001b[1m20s\u001b[0m 3ms/step - accuracy: 0.9959 - loss: 0.0136 - val_accuracy: 0.9982 - val_loss: 0.0082\n",
            "Epoch 12/50\n",
            "\u001b[1m4425/4425\u001b[0m \u001b[32m━━━━━━━━━━━━━━━━━━━━\u001b[0m\u001b[37m\u001b[0m \u001b[1m21s\u001b[0m 3ms/step - accuracy: 0.9960 - loss: 0.0142 - val_accuracy: 0.9980 - val_loss: 0.0104\n",
            "Epoch 13/50\n",
            "\u001b[1m4425/4425\u001b[0m \u001b[32m━━━━━━━━━━━━━━━━━━━━\u001b[0m\u001b[37m\u001b[0m \u001b[1m23s\u001b[0m 4ms/step - accuracy: 0.9959 - loss: 0.0138 - val_accuracy: 0.9985 - val_loss: 0.0077\n",
            "Epoch 14/50\n",
            "\u001b[1m4425/4425\u001b[0m \u001b[32m━━━━━━━━━━━━━━━━━━━━\u001b[0m\u001b[37m\u001b[0m \u001b[1m14s\u001b[0m 3ms/step - accuracy: 0.9966 - loss: 0.0115 - val_accuracy: 0.9982 - val_loss: 0.0105\n",
            "Epoch 15/50\n",
            "\u001b[1m4425/4425\u001b[0m \u001b[32m━━━━━━━━━━━━━━━━━━━━\u001b[0m\u001b[37m\u001b[0m \u001b[1m13s\u001b[0m 3ms/step - accuracy: 0.9956 - loss: 0.0195 - val_accuracy: 0.9986 - val_loss: 0.0086\n",
            "Epoch 16/50\n",
            "\u001b[1m4425/4425\u001b[0m \u001b[32m━━━━━━━━━━━━━━━━━━━━\u001b[0m\u001b[37m\u001b[0m \u001b[1m13s\u001b[0m 3ms/step - accuracy: 0.9967 - loss: 0.0112 - val_accuracy: 0.9977 - val_loss: 0.0096\n",
            "Epoch 17/50\n",
            "\u001b[1m4425/4425\u001b[0m \u001b[32m━━━━━━━━━━━━━━━━━━━━\u001b[0m\u001b[37m\u001b[0m \u001b[1m20s\u001b[0m 3ms/step - accuracy: 0.9967 - loss: 0.0102 - val_accuracy: 0.9985 - val_loss: 0.0071\n",
            "Epoch 18/50\n",
            "\u001b[1m4425/4425\u001b[0m \u001b[32m━━━━━━━━━━━━━━━━━━━━\u001b[0m\u001b[37m\u001b[0m \u001b[1m13s\u001b[0m 3ms/step - accuracy: 0.9965 - loss: 0.0115 - val_accuracy: 0.9982 - val_loss: 0.0113\n",
            "Epoch 19/50\n",
            "\u001b[1m4425/4425\u001b[0m \u001b[32m━━━━━━━━━━━━━━━━━━━━\u001b[0m\u001b[37m\u001b[0m \u001b[1m21s\u001b[0m 3ms/step - accuracy: 0.9963 - loss: 0.0136 - val_accuracy: 0.9983 - val_loss: 0.0080\n",
            "Epoch 20/50\n",
            "\u001b[1m4425/4425\u001b[0m \u001b[32m━━━━━━━━━━━━━━━━━━━━\u001b[0m\u001b[37m\u001b[0m \u001b[1m21s\u001b[0m 3ms/step - accuracy: 0.9966 - loss: 0.0132 - val_accuracy: 0.9981 - val_loss: 0.0099\n",
            "Epoch 21/50\n",
            "\u001b[1m4425/4425\u001b[0m \u001b[32m━━━━━━━━━━━━━━━━━━━━\u001b[0m\u001b[37m\u001b[0m \u001b[1m20s\u001b[0m 3ms/step - accuracy: 0.9967 - loss: 0.0127 - val_accuracy: 0.9986 - val_loss: 0.0080\n",
            "Epoch 22/50\n",
            "\u001b[1m4425/4425\u001b[0m \u001b[32m━━━━━━━━━━━━━━━━━━━━\u001b[0m\u001b[37m\u001b[0m \u001b[1m20s\u001b[0m 3ms/step - accuracy: 0.9968 - loss: 0.0112 - val_accuracy: 0.9984 - val_loss: 0.0091\n",
            "\u001b[1m770/770\u001b[0m \u001b[32m━━━━━━━━━━━━━━━━━━━━\u001b[0m\u001b[37m\u001b[0m \u001b[1m1s\u001b[0m 2ms/step\n",
            "\n",
            "📊 Classification Report:\n",
            "              precision    recall  f1-score   support\n",
            "\n",
            "      Benign       0.96      0.99      0.98      2501\n",
            "     Harmful       1.00      1.00      1.00     22123\n",
            "\n",
            "    accuracy                           0.99     24624\n",
            "   macro avg       0.98      0.99      0.99     24624\n",
            "weighted avg       1.00      0.99      1.00     24624\n",
            "\n",
            "\n",
            "🧩 Confusion Matrix:\n",
            "[[ 2487    14]\n",
            " [  110 22013]]\n"
          ]
        }
      ]
    },
    {
      "cell_type": "markdown",
      "source": [
        "MLP for Multiclass Attack Classification"
      ],
      "metadata": {
        "id": "R3ZRpvJqEvOy"
      }
    },
    {
      "cell_type": "code",
      "source": [
        "import pandas as pd\n",
        "import numpy as np\n",
        "from sklearn.preprocessing import StandardScaler, LabelEncoder\n",
        "from sklearn.model_selection import train_test_split\n",
        "from sklearn.metrics import classification_report, confusion_matrix\n",
        "from tensorflow.keras.utils import to_categorical\n",
        "from tensorflow.keras import models, layers, callbacks\n",
        "\n",
        "# Load and Shuffle the Dataset ---\n",
        "df = pd.read_csv('/content/RT_IOT2022_v1.csv')\n",
        "df = df.sample(frac=1, random_state=42).reset_index(drop=True)  # shuffle\n",
        "\n",
        "# Filter only defined attacks (benign or harmful) ---\n",
        "valid_attacks = [\n",
        "    'MQTT_Publish', 'Thing_Speak', 'Wipro_bulb',  # benign\n",
        "    'DOS_SYN_Hping', 'ARP_poisioning', 'NMAP_UDP_SCAN',\n",
        "    'NMAP_XMAS_TREE_SCAN', 'NMAP_OS_DETECTION', 'NMAP_TCP_scan',\n",
        "    'DDOS_Slowloris', 'Metasploit_Brute_Force_SSH', 'NMAP_FIN_SCAN'  # harmful\n",
        "]\n",
        "\n",
        "df_filtered = df[df['Attack_type'].isin(valid_attacks)].copy()\n",
        "\n",
        "# Encode Attack_type as multiclass labels ---\n",
        "le = LabelEncoder()\n",
        "df_filtered['attack_label'] = le.fit_transform(df_filtered['Attack_type'])\n",
        "y = to_categorical(df_filtered['attack_label'])  # one-hot for multiclass\n",
        "\n",
        "# Prepare Features ---\n",
        "X_raw = df_filtered.drop(columns=['proto', 'service', 'Attack_type', 'attack_label'])\n",
        "scaler = StandardScaler()\n",
        "X_scaled = scaler.fit_transform(X_raw)\n",
        "\n",
        "# Split into Train, Validation, Test ---\n",
        "X_temp, X_test, y_temp, y_test = train_test_split(X_scaled, y, test_size=0.2, random_state=42, stratify=y)\n",
        "X_train, X_val, y_train, y_val = train_test_split(X_temp, y_temp, test_size=0.25, random_state=42, stratify=y_temp)  # 0.25 of 80% = 20%\n",
        "\n",
        "# Build MLP Model for Multiclass Classification ---\n",
        "model = models.Sequential([\n",
        "    layers.Input(shape=(X_train.shape[1],)),\n",
        "    layers.Dense(128, activation='relu'),\n",
        "    layers.Dropout(0.3),\n",
        "    layers.Dense(64, activation='relu'),\n",
        "    layers.Dropout(0.3),\n",
        "    layers.Dense(y_train.shape[1], activation='softmax')  # multiclass\n",
        "])\n",
        "\n",
        "model.compile(optimizer='adam', loss='categorical_crossentropy', metrics=['accuracy'])\n",
        "\n",
        "# Train Model with EarlyStopping ---\n",
        "early_stop = callbacks.EarlyStopping(monitor='val_loss', patience=5, restore_best_weights=True)\n",
        "history = model.fit(X_train, y_train,\n",
        "                    validation_data=(X_val, y_val),\n",
        "                    epochs=50,\n",
        "                    batch_size=32,\n",
        "                    callbacks=[early_stop],\n",
        "                    verbose=1)\n",
        "\n",
        "# Evaluate Model ---\n",
        "y_pred_probs = model.predict(X_test)\n",
        "y_pred_classes = np.argmax(y_pred_probs, axis=1)\n",
        "y_true_classes = np.argmax(y_test, axis=1)\n",
        "\n",
        "print(\"\\n📊 Classification Report:\")\n",
        "print(classification_report(y_true_classes, y_pred_classes, target_names=le.classes_))\n",
        "\n",
        "print(\"\\n🧩 Confusion Matrix:\")\n",
        "print(confusion_matrix(y_true_classes, y_pred_classes))\n"
      ],
      "metadata": {
        "colab": {
          "base_uri": "https://localhost:8080/"
        },
        "id": "_xqycnKHEty-",
        "outputId": "c3cc1b9a-d7af-46a6-e7aa-284b9bfc9dd5"
      },
      "execution_count": null,
      "outputs": [
        {
          "output_type": "stream",
          "name": "stdout",
          "text": [
            "Epoch 1/50\n",
            "\u001b[1m2309/2309\u001b[0m \u001b[32m━━━━━━━━━━━━━━━━━━━━\u001b[0m\u001b[37m\u001b[0m \u001b[1m13s\u001b[0m 4ms/step - accuracy: 0.9286 - loss: 0.2769 - val_accuracy: 0.9803 - val_loss: 0.0616\n",
            "Epoch 2/50\n",
            "\u001b[1m2309/2309\u001b[0m \u001b[32m━━━━━━━━━━━━━━━━━━━━\u001b[0m\u001b[37m\u001b[0m \u001b[1m7s\u001b[0m 3ms/step - accuracy: 0.9826 - loss: 0.0604 - val_accuracy: 0.9885 - val_loss: 0.0454\n",
            "Epoch 3/50\n",
            "\u001b[1m2309/2309\u001b[0m \u001b[32m━━━━━━━━━━━━━━━━━━━━\u001b[0m\u001b[37m\u001b[0m \u001b[1m8s\u001b[0m 3ms/step - accuracy: 0.9870 - loss: 0.0487 - val_accuracy: 0.9918 - val_loss: 0.0400\n",
            "Epoch 4/50\n",
            "\u001b[1m2309/2309\u001b[0m \u001b[32m━━━━━━━━━━━━━━━━━━━━\u001b[0m\u001b[37m\u001b[0m \u001b[1m7s\u001b[0m 3ms/step - accuracy: 0.9894 - loss: 0.0358 - val_accuracy: 0.9928 - val_loss: 0.0410\n",
            "Epoch 5/50\n",
            "\u001b[1m2309/2309\u001b[0m \u001b[32m━━━━━━━━━━━━━━━━━━━━\u001b[0m\u001b[37m\u001b[0m \u001b[1m8s\u001b[0m 3ms/step - accuracy: 0.9901 - loss: 0.0340 - val_accuracy: 0.9929 - val_loss: 0.0475\n",
            "Epoch 6/50\n",
            "\u001b[1m2309/2309\u001b[0m \u001b[32m━━━━━━━━━━━━━━━━━━━━\u001b[0m\u001b[37m\u001b[0m \u001b[1m11s\u001b[0m 4ms/step - accuracy: 0.9914 - loss: 0.0292 - val_accuracy: 0.9939 - val_loss: 0.0427\n",
            "Epoch 7/50\n",
            "\u001b[1m2309/2309\u001b[0m \u001b[32m━━━━━━━━━━━━━━━━━━━━\u001b[0m\u001b[37m\u001b[0m \u001b[1m9s\u001b[0m 3ms/step - accuracy: 0.9915 - loss: 0.0304 - val_accuracy: 0.9922 - val_loss: 0.0487\n",
            "Epoch 8/50\n",
            "\u001b[1m2309/2309\u001b[0m \u001b[32m━━━━━━━━━━━━━━━━━━━━\u001b[0m\u001b[37m\u001b[0m \u001b[1m8s\u001b[0m 3ms/step - accuracy: 0.9913 - loss: 0.0303 - val_accuracy: 0.9950 - val_loss: 0.0366\n",
            "Epoch 9/50\n",
            "\u001b[1m2309/2309\u001b[0m \u001b[32m━━━━━━━━━━━━━━━━━━━━\u001b[0m\u001b[37m\u001b[0m \u001b[1m8s\u001b[0m 3ms/step - accuracy: 0.9926 - loss: 0.0276 - val_accuracy: 0.9946 - val_loss: 0.0387\n",
            "Epoch 10/50\n",
            "\u001b[1m2309/2309\u001b[0m \u001b[32m━━━━━━━━━━━━━━━━━━━━\u001b[0m\u001b[37m\u001b[0m \u001b[1m9s\u001b[0m 4ms/step - accuracy: 0.9914 - loss: 0.0270 - val_accuracy: 0.9957 - val_loss: 0.0330\n",
            "Epoch 11/50\n",
            "\u001b[1m2309/2309\u001b[0m \u001b[32m━━━━━━━━━━━━━━━━━━━━\u001b[0m\u001b[37m\u001b[0m \u001b[1m8s\u001b[0m 3ms/step - accuracy: 0.9922 - loss: 0.0243 - val_accuracy: 0.9947 - val_loss: 0.0387\n",
            "Epoch 12/50\n",
            "\u001b[1m2309/2309\u001b[0m \u001b[32m━━━━━━━━━━━━━━━━━━━━\u001b[0m\u001b[37m\u001b[0m \u001b[1m11s\u001b[0m 3ms/step - accuracy: 0.9931 - loss: 0.0224 - val_accuracy: 0.9956 - val_loss: 0.0339\n",
            "Epoch 13/50\n",
            "\u001b[1m2309/2309\u001b[0m \u001b[32m━━━━━━━━━━━━━━━━━━━━\u001b[0m\u001b[37m\u001b[0m \u001b[1m10s\u001b[0m 3ms/step - accuracy: 0.9936 - loss: 0.0230 - val_accuracy: 0.9957 - val_loss: 0.0336\n",
            "Epoch 14/50\n",
            "\u001b[1m2309/2309\u001b[0m \u001b[32m━━━━━━━━━━━━━━━━━━━━\u001b[0m\u001b[37m\u001b[0m \u001b[1m10s\u001b[0m 3ms/step - accuracy: 0.9932 - loss: 0.0222 - val_accuracy: 0.9946 - val_loss: 0.0324\n",
            "Epoch 15/50\n",
            "\u001b[1m2309/2309\u001b[0m \u001b[32m━━━━━━━━━━━━━━━━━━━━\u001b[0m\u001b[37m\u001b[0m \u001b[1m9s\u001b[0m 4ms/step - accuracy: 0.9934 - loss: 0.0206 - val_accuracy: 0.9942 - val_loss: 0.0456\n",
            "Epoch 16/50\n",
            "\u001b[1m2309/2309\u001b[0m \u001b[32m━━━━━━━━━━━━━━━━━━━━\u001b[0m\u001b[37m\u001b[0m \u001b[1m7s\u001b[0m 3ms/step - accuracy: 0.9935 - loss: 0.0226 - val_accuracy: 0.9957 - val_loss: 0.0372\n",
            "Epoch 17/50\n",
            "\u001b[1m2309/2309\u001b[0m \u001b[32m━━━━━━━━━━━━━━━━━━━━\u001b[0m\u001b[37m\u001b[0m \u001b[1m10s\u001b[0m 3ms/step - accuracy: 0.9938 - loss: 0.0204 - val_accuracy: 0.9952 - val_loss: 0.0401\n",
            "Epoch 18/50\n",
            "\u001b[1m2309/2309\u001b[0m \u001b[32m━━━━━━━━━━━━━━━━━━━━\u001b[0m\u001b[37m\u001b[0m \u001b[1m8s\u001b[0m 3ms/step - accuracy: 0.9932 - loss: 0.0214 - val_accuracy: 0.9953 - val_loss: 0.0467\n",
            "Epoch 19/50\n",
            "\u001b[1m2309/2309\u001b[0m \u001b[32m━━━━━━━━━━━━━━━━━━━━\u001b[0m\u001b[37m\u001b[0m \u001b[1m10s\u001b[0m 3ms/step - accuracy: 0.9942 - loss: 0.0182 - val_accuracy: 0.9958 - val_loss: 0.0463\n",
            "\u001b[1m770/770\u001b[0m \u001b[32m━━━━━━━━━━━━━━━━━━━━\u001b[0m\u001b[37m\u001b[0m \u001b[1m1s\u001b[0m 2ms/step\n",
            "\n",
            "📊 Classification Report:\n",
            "                            precision    recall  f1-score   support\n",
            "\n",
            "            ARP_poisioning       0.96      0.98      0.97      1550\n",
            "            DDOS_Slowloris       0.80      0.96      0.88       107\n",
            "             DOS_SYN_Hping       1.00      1.00      1.00     18932\n",
            "              MQTT_Publish       1.00      1.00      1.00       829\n",
            "Metasploit_Brute_Force_SSH       1.00      0.29      0.44         7\n",
            "             NMAP_FIN_SCAN       0.71      0.83      0.77         6\n",
            "         NMAP_OS_DETECTION       1.00      1.00      1.00       400\n",
            "             NMAP_TCP_scan       0.99      1.00      1.00       200\n",
            "             NMAP_UDP_SCAN       1.00      0.92      0.96       518\n",
            "       NMAP_XMAS_TREE_SCAN       1.00      1.00      1.00       402\n",
            "               Thing_Speak       0.98      0.98      0.98      1622\n",
            "                Wipro_bulb       0.98      0.84      0.91        51\n",
            "\n",
            "                  accuracy                           1.00     24624\n",
            "                 macro avg       0.95      0.90      0.91     24624\n",
            "              weighted avg       1.00      1.00      1.00     24624\n",
            "\n",
            "\n",
            "🧩 Confusion Matrix:\n",
            "[[ 1519     0     0     0     0     0     0     2     0     0    29     0]\n",
            " [    4   103     0     0     0     0     0     0     0     0     0     0]\n",
            " [    0     0 18932     0     0     0     0     0     0     0     0     0]\n",
            " [    1     0     0   828     0     0     0     0     0     0     0     0]\n",
            " [    5     0     0     0     2     0     0     0     0     0     0     0]\n",
            " [    1     0     0     0     0     5     0     0     0     0     0     0]\n",
            " [    0     0     0     0     0     0   400     0     0     0     0     0]\n",
            " [    0     0     0     0     0     0     0   200     0     0     0     0]\n",
            " [   14    25     0     0     0     0     0     0   478     0     0     1]\n",
            " [    1     0     0     0     0     0     0     0     0   401     0     0]\n",
            " [   29     0     0     1     0     0     0     0     1     0  1591     0]\n",
            " [    1     0     0     0     0     2     1     0     1     0     3    43]]\n"
          ]
        }
      ]
    },
    {
      "cell_type": "markdown",
      "source": [
        "Quantized MLP Model for IoT Deployment"
      ],
      "metadata": {
        "id": "sZgvpqdiKRjW"
      }
    },
    {
      "cell_type": "code",
      "source": [
        "import pandas as pd\n",
        "import numpy as np\n",
        "from sklearn.preprocessing import StandardScaler, LabelEncoder\n",
        "from sklearn.model_selection import train_test_split\n",
        "from sklearn.utils.class_weight import compute_class_weight\n",
        "from sklearn.metrics import classification_report, confusion_matrix\n",
        "from tensorflow.keras import models, layers, callbacks\n",
        "from tensorflow.keras.utils import to_categorical\n",
        "import tensorflow as tf\n",
        "\n",
        "# Load & Shuffle Dataset ---\n",
        "df = pd.read_csv('/content/RT_IOT2022_v1.csv')\n",
        "df = df.sample(frac=1, random_state=42).reset_index(drop=True)\n",
        "\n",
        "# Filter Valid Attacks ---\n",
        "valid_attacks = [\n",
        "    'MQTT_Publish', 'Thing_Speak', 'Wipro_bulb',\n",
        "    'DOS_SYN_Hping', 'ARP_poisioning', 'NMAP_UDP_SCAN',\n",
        "    'NMAP_XMAS_TREE_SCAN', 'NMAP_OS_DETECTION', 'NMAP_TCP_scan',\n",
        "    'DDOS_Slowloris', 'Metasploit_Brute_Force_SSH', 'NMAP_FIN_SCAN'\n",
        "]\n",
        "df = df[df['Attack_type'].isin(valid_attacks)].copy()\n",
        "\n",
        "# Encode Labels ---\n",
        "le = LabelEncoder()\n",
        "df['attack_label'] = le.fit_transform(df['Attack_type'])\n",
        "y_int = df['attack_label'].values\n",
        "y_cat = to_categorical(y_int)\n",
        "\n",
        "# Feature Preprocessing ---\n",
        "non_features = ['proto', 'service', 'Attack_type', 'attack_label']\n",
        "X_raw = df.drop(columns=non_features)\n",
        "scaler = StandardScaler()\n",
        "X_scaled = scaler.fit_transform(X_raw)\n",
        "\n",
        "# Split Dataset ---\n",
        "X_temp, X_test, y_temp_cat, y_test_cat, y_temp_int, y_test_int = train_test_split(\n",
        "    X_scaled, y_cat, y_int, test_size=0.2, stratify=y_int, random_state=42)\n",
        "\n",
        "X_train, X_val, y_train_cat, y_val_cat, y_train_int, y_val_int = train_test_split(\n",
        "    X_temp, y_temp_cat, y_temp_int, test_size=0.25, stratify=y_temp_int, random_state=42)\n",
        "\n",
        "# Compute Class Weights ---\n",
        "class_weights = compute_class_weight(class_weight='balanced',\n",
        "                                     classes=np.unique(y_train_int),\n",
        "                                     y=y_train_int)\n",
        "class_weight_dict = dict(enumerate(class_weights))\n",
        "\n",
        "# Define Lightweight MLP Model ---\n",
        "model = models.Sequential([\n",
        "    layers.Input(shape=(X_train.shape[1],)),\n",
        "    layers.Dense(64, activation='relu'),\n",
        "    layers.Dense(32, activation='relu'),\n",
        "    layers.Dense(y_train_cat.shape[1], activation='softmax')\n",
        "])\n",
        "\n",
        "model.compile(optimizer='adam', loss='categorical_crossentropy', metrics=['accuracy'])\n",
        "\n",
        "# Train Model ---\n",
        "early_stop = callbacks.EarlyStopping(monitor='val_loss', patience=5, restore_best_weights=True)\n",
        "model.fit(X_train, y_train_cat,\n",
        "          validation_data=(X_val, y_val_cat),\n",
        "          epochs=50,\n",
        "          batch_size=32,\n",
        "          class_weight=class_weight_dict,\n",
        "          callbacks=[early_stop],\n",
        "          verbose=1)\n",
        "\n",
        "# Evaluate on Test Set ---\n",
        "y_pred = model.predict(X_test)\n",
        "y_pred_class = np.argmax(y_pred, axis=1)\n",
        "y_true_class = np.argmax(y_test_cat, axis=1)\n",
        "\n",
        "print(\"\\n📊 Classification Report:\")\n",
        "print(classification_report(y_true_class, y_pred_class, target_names=le.classes_))\n",
        "print(\"\\n🧩 Confusion Matrix:\")\n",
        "print(confusion_matrix(y_true_class, y_pred_class))\n",
        "\n",
        "# Quantize the Model for IoT (TFLite) ---\n",
        "converter = tf.lite.TFLiteConverter.from_keras_model(model)\n",
        "converter.optimizations = [tf.lite.Optimize.DEFAULT]  # Enable post-training quantization\n",
        "tflite_model = converter.convert()\n",
        "\n",
        "# Save the Quantized Model ---\n",
        "with open(\"quantized_iot_model.tflite\", \"wb\") as f:\n",
        "    f.write(tflite_model)\n",
        "\n",
        "print(\"\\n✅ Model successfully quantized and saved as 'quantized_iot_model.tflite'\")\n"
      ],
      "metadata": {
        "colab": {
          "base_uri": "https://localhost:8080/"
        },
        "id": "8edFD5dMJTQG",
        "outputId": "865a896d-701d-4483-ed3c-53342c142f4b"
      },
      "execution_count": null,
      "outputs": [
        {
          "output_type": "stream",
          "name": "stdout",
          "text": [
            "Epoch 1/50\n",
            "\u001b[1m2309/2309\u001b[0m \u001b[32m━━━━━━━━━━━━━━━━━━━━\u001b[0m\u001b[37m\u001b[0m \u001b[1m11s\u001b[0m 4ms/step - accuracy: 0.8618 - loss: 1.0151 - val_accuracy: 0.9556 - val_loss: 0.1572\n",
            "Epoch 2/50\n",
            "\u001b[1m2309/2309\u001b[0m \u001b[32m━━━━━━━━━━━━━━━━━━━━\u001b[0m\u001b[37m\u001b[0m \u001b[1m8s\u001b[0m 3ms/step - accuracy: 0.9692 - loss: 0.2659 - val_accuracy: 0.9773 - val_loss: 0.0770\n",
            "Epoch 3/50\n",
            "\u001b[1m2309/2309\u001b[0m \u001b[32m━━━━━━━━━━━━━━━━━━━━\u001b[0m\u001b[37m\u001b[0m \u001b[1m14s\u001b[0m 5ms/step - accuracy: 0.9775 - loss: 0.1626 - val_accuracy: 0.9794 - val_loss: 0.0739\n",
            "Epoch 4/50\n",
            "\u001b[1m2309/2309\u001b[0m \u001b[32m━━━━━━━━━━━━━━━━━━━━\u001b[0m\u001b[37m\u001b[0m \u001b[1m17s\u001b[0m 8ms/step - accuracy: 0.9822 - loss: 0.2545 - val_accuracy: 0.9519 - val_loss: 0.1353\n",
            "Epoch 5/50\n",
            "\u001b[1m2309/2309\u001b[0m \u001b[32m━━━━━━━━━━━━━━━━━━━━\u001b[0m\u001b[37m\u001b[0m \u001b[1m11s\u001b[0m 3ms/step - accuracy: 0.9781 - loss: 0.1513 - val_accuracy: 0.9859 - val_loss: 0.0717\n",
            "Epoch 6/50\n",
            "\u001b[1m2309/2309\u001b[0m \u001b[32m━━━━━━━━━━━━━━━━━━━━\u001b[0m\u001b[37m\u001b[0m \u001b[1m7s\u001b[0m 3ms/step - accuracy: 0.9889 - loss: 0.1246 - val_accuracy: 0.9685 - val_loss: 0.1184\n",
            "Epoch 7/50\n",
            "\u001b[1m2309/2309\u001b[0m \u001b[32m━━━━━━━━━━━━━━━━━━━━\u001b[0m\u001b[37m\u001b[0m \u001b[1m8s\u001b[0m 3ms/step - accuracy: 0.9858 - loss: 0.1077 - val_accuracy: 0.9885 - val_loss: 0.0587\n",
            "Epoch 8/50\n",
            "\u001b[1m2309/2309\u001b[0m \u001b[32m━━━━━━━━━━━━━━━━━━━━\u001b[0m\u001b[37m\u001b[0m \u001b[1m8s\u001b[0m 3ms/step - accuracy: 0.9890 - loss: 0.1009 - val_accuracy: 0.9905 - val_loss: 0.0464\n",
            "Epoch 9/50\n",
            "\u001b[1m2309/2309\u001b[0m \u001b[32m━━━━━━━━━━━━━━━━━━━━\u001b[0m\u001b[37m\u001b[0m \u001b[1m7s\u001b[0m 3ms/step - accuracy: 0.9908 - loss: 0.0899 - val_accuracy: 0.9889 - val_loss: 0.0481\n",
            "Epoch 10/50\n",
            "\u001b[1m2309/2309\u001b[0m \u001b[32m━━━━━━━━━━━━━━━━━━━━\u001b[0m\u001b[37m\u001b[0m \u001b[1m11s\u001b[0m 4ms/step - accuracy: 0.9901 - loss: 0.1441 - val_accuracy: 0.9901 - val_loss: 0.0535\n",
            "Epoch 11/50\n",
            "\u001b[1m2309/2309\u001b[0m \u001b[32m━━━━━━━━━━━━━━━━━━━━\u001b[0m\u001b[37m\u001b[0m \u001b[1m8s\u001b[0m 3ms/step - accuracy: 0.9914 - loss: 0.0691 - val_accuracy: 0.9913 - val_loss: 0.0515\n",
            "Epoch 12/50\n",
            "\u001b[1m2309/2309\u001b[0m \u001b[32m━━━━━━━━━━━━━━━━━━━━\u001b[0m\u001b[37m\u001b[0m \u001b[1m7s\u001b[0m 3ms/step - accuracy: 0.9908 - loss: 0.2341 - val_accuracy: 0.9889 - val_loss: 0.0722\n",
            "Epoch 13/50\n",
            "\u001b[1m2309/2309\u001b[0m \u001b[32m━━━━━━━━━━━━━━━━━━━━\u001b[0m\u001b[37m\u001b[0m \u001b[1m8s\u001b[0m 3ms/step - accuracy: 0.9915 - loss: 0.0695 - val_accuracy: 0.9910 - val_loss: 0.0552\n",
            "\u001b[1m770/770\u001b[0m \u001b[32m━━━━━━━━━━━━━━━━━━━━\u001b[0m\u001b[37m\u001b[0m \u001b[1m1s\u001b[0m 2ms/step\n",
            "\n",
            "📊 Classification Report:\n",
            "                            precision    recall  f1-score   support\n",
            "\n",
            "            ARP_poisioning       0.96      0.94      0.95      1550\n",
            "            DDOS_Slowloris       0.72      1.00      0.84       107\n",
            "             DOS_SYN_Hping       1.00      1.00      1.00     18932\n",
            "              MQTT_Publish       1.00      1.00      1.00       829\n",
            "Metasploit_Brute_Force_SSH       0.21      0.86      0.34         7\n",
            "             NMAP_FIN_SCAN       0.57      0.67      0.62         6\n",
            "         NMAP_OS_DETECTION       1.00      1.00      1.00       400\n",
            "             NMAP_TCP_scan       0.99      0.99      0.99       200\n",
            "             NMAP_UDP_SCAN       0.96      0.92      0.94       518\n",
            "       NMAP_XMAS_TREE_SCAN       1.00      1.00      1.00       402\n",
            "               Thing_Speak       0.97      0.96      0.96      1622\n",
            "                Wipro_bulb       0.72      0.92      0.81        51\n",
            "\n",
            "                  accuracy                           0.99     24624\n",
            "                 macro avg       0.84      0.94      0.87     24624\n",
            "              weighted avg       0.99      0.99      0.99     24624\n",
            "\n",
            "\n",
            "🧩 Confusion Matrix:\n",
            "[[ 1461     7     0     1    14     2     0     1    17     0    41     6]\n",
            " [    0   107     0     0     0     0     0     0     0     0     0     0]\n",
            " [    0     0 18932     0     0     0     0     0     0     0     0     0]\n",
            " [    1     1     0   826     0     0     0     0     0     0     0     1]\n",
            " [    1     0     0     0     6     0     0     0     0     0     0     0]\n",
            " [    2     0     0     0     0     4     0     0     0     0     0     0]\n",
            " [    0     0     0     0     0     0   400     0     0     0     0     0]\n",
            " [    0     0     0     1     0     0     0   199     0     0     0     0]\n",
            " [   10    33     0     0     0     0     0     0   475     0     0     0]\n",
            " [    1     0     0     0     0     0     0     0     0   401     0     0]\n",
            " [   48     0     0     1     8     1     0     0     1     0  1552    11]\n",
            " [    2     0     0     0     0     0     0     0     0     0     2    47]]\n",
            "Saved artifact at '/tmp/tmpckrjqhss'. The following endpoints are available:\n",
            "\n",
            "* Endpoint 'serve'\n",
            "  args_0 (POSITIONAL_ONLY): TensorSpec(shape=(None, 82), dtype=tf.float32, name='keras_tensor_25')\n",
            "Output Type:\n",
            "  TensorSpec(shape=(None, 12), dtype=tf.float32, name=None)\n",
            "Captures:\n",
            "  140406328283920: TensorSpec(shape=(), dtype=tf.resource, name=None)\n",
            "  140406328285072: TensorSpec(shape=(), dtype=tf.resource, name=None)\n",
            "  140406328294288: TensorSpec(shape=(), dtype=tf.resource, name=None)\n",
            "  140406328281040: TensorSpec(shape=(), dtype=tf.resource, name=None)\n",
            "  140406328284112: TensorSpec(shape=(), dtype=tf.resource, name=None)\n",
            "  140406328284688: TensorSpec(shape=(), dtype=tf.resource, name=None)\n",
            "\n",
            "✅ Model successfully quantized and saved as 'quantized_iot_model.tflite'\n"
          ]
        }
      ]
    },
    {
      "cell_type": "markdown",
      "source": [
        "Simulate the IoT device Raspberry Pi"
      ],
      "metadata": {
        "id": "jF_nYKzWP71Z"
      }
    },
    {
      "cell_type": "code",
      "source": [
        "import numpy as np\n",
        "import tensorflow as tf\n",
        "import time\n",
        "import matplotlib.pyplot as plt\n",
        "\n",
        "# Build a small MLP model\n",
        "model = tf.keras.Sequential([\n",
        "    tf.keras.layers.Input(shape=(50,)),\n",
        "    tf.keras.layers.Dense(64, activation='relu'),\n",
        "    tf.keras.layers.Dense(32, activation='relu'),\n",
        "    tf.keras.layers.Dense(12, activation='softmax')\n",
        "])\n",
        "model.compile(optimizer='adam', loss='categorical_crossentropy')\n",
        "\n",
        "# Convert to quantized TFLite model\n",
        "converter = tf.lite.TFLiteConverter.from_keras_model(model)\n",
        "converter.optimizations = [tf.lite.Optimize.DEFAULT]\n",
        "tflite_model = converter.convert()\n",
        "\n",
        "# Load with TFLite Interpreter\n",
        "interpreter = tf.lite.Interpreter(model_content=tflite_model)\n",
        "interpreter.allocate_tensors()\n",
        "\n",
        "input_details = interpreter.get_input_details()\n",
        "output_details = interpreter.get_output_details()\n",
        "\n",
        "# Measure inference times\n",
        "times = []\n",
        "for _ in range(100):\n",
        "    input_data = np.random.rand(1, 50).astype(np.float32)\n",
        "    interpreter.set_tensor(input_details[0]['index'], input_data)\n",
        "    start = time.time()\n",
        "    interpreter.invoke()\n",
        "    _ = interpreter.get_tensor(output_details[0]['index'])\n",
        "    end = time.time()\n",
        "    times.append((end - start) * 1000)  # ms\n",
        "\n",
        "# Display results\n",
        "print(f\"Average Inference Time: {np.mean(times):.3f} ms\")\n",
        "print(f\"Standard Deviation: {np.std(times):.3f} ms\")\n",
        "\n",
        "plt.hist(times, bins=20, color='skyblue', edgecolor='black')\n",
        "plt.title(\"Simulated TFLite Inference Time\")\n",
        "plt.xlabel(\"Time (ms)\")\n",
        "plt.ylabel(\"Frequency\")\n",
        "plt.grid(True)\n",
        "plt.show()\n"
      ],
      "metadata": {
        "colab": {
          "base_uri": "https://localhost:8080/",
          "height": 746
        },
        "id": "f-URh1KpKWfc",
        "outputId": "0ec3cddc-5c5d-4d5d-8bac-818111f953b8"
      },
      "execution_count": null,
      "outputs": [
        {
          "output_type": "stream",
          "name": "stdout",
          "text": [
            "Saved artifact at '/tmp/tmpdlpqx6dz'. The following endpoints are available:\n",
            "\n",
            "* Endpoint 'serve'\n",
            "  args_0 (POSITIONAL_ONLY): TensorSpec(shape=(None, 50), dtype=tf.float32, name='keras_tensor_96')\n",
            "Output Type:\n",
            "  TensorSpec(shape=(None, 12), dtype=tf.float32, name=None)\n",
            "Captures:\n",
            "  136817959563920: TensorSpec(shape=(), dtype=tf.resource, name=None)\n",
            "  136817959561424: TensorSpec(shape=(), dtype=tf.resource, name=None)\n",
            "  136817953284624: TensorSpec(shape=(), dtype=tf.resource, name=None)\n",
            "  136817953290768: TensorSpec(shape=(), dtype=tf.resource, name=None)\n",
            "  136817953282704: TensorSpec(shape=(), dtype=tf.resource, name=None)\n",
            "  136817953279632: TensorSpec(shape=(), dtype=tf.resource, name=None)\n",
            "Average Inference Time: 0.016 ms\n",
            "Standard Deviation: 0.111 ms\n"
          ]
        },
        {
          "output_type": "display_data",
          "data": {
            "text/plain": [
              "<Figure size 640x480 with 1 Axes>"
            ],
            "image/png": "[encoded data removed]"
          },
          "metadata": {}
        }
      ]
    },
    {
      "cell_type": "markdown",
      "source": [
        "Final MLP Combo Model- Original MLP  ->  TFLite (dynamic range)  +  TFLite (INT8)"
      ],
      "metadata": {
        "id": "EfpeaGMp-I5-"
      }
    },
    {
      "cell_type": "code",
      "execution_count": null,
      "metadata": {
        "colab": {
          "base_uri": "https://localhost:8080/"
        },
        "id": "bX1NWvnBlyGl",
        "outputId": "e14115a8-8ef9-4d21-fb0f-2bbc24c15c40"
      },
      "outputs": [
        {
          "output_type": "stream",
          "name": "stdout",
          "text": [
            "Epoch 1/50\n",
            "\u001b[1m2309/2309\u001b[0m \u001b[32m━━━━━━━━━━━━━━━━━━━━\u001b[0m\u001b[37m\u001b[0m \u001b[1m10s\u001b[0m 3ms/step - accuracy: 0.8651 - loss: 1.1467 - val_accuracy: 0.9724 - val_loss: 0.1008\n",
            "Epoch 2/50\n",
            "\u001b[1m2309/2309\u001b[0m \u001b[32m━━━━━━━━━━━━━━━━━━━━\u001b[0m\u001b[37m\u001b[0m \u001b[1m9s\u001b[0m 3ms/step - accuracy: 0.9743 - loss: 0.2150 - val_accuracy: 0.9757 - val_loss: 0.0831\n",
            "Epoch 3/50\n",
            "\u001b[1m2309/2309\u001b[0m \u001b[32m━━━━━━━━━━━━━━━━━━━━\u001b[0m\u001b[37m\u001b[0m \u001b[1m7s\u001b[0m 3ms/step - accuracy: 0.9805 - loss: 0.1532 - val_accuracy: 0.9839 - val_loss: 0.0733\n",
            "Epoch 4/50\n",
            "\u001b[1m2309/2309\u001b[0m \u001b[32m━━━━━━━━━━━━━━━━━━━━\u001b[0m\u001b[37m\u001b[0m \u001b[1m10s\u001b[0m 3ms/step - accuracy: 0.9859 - loss: 0.1225 - val_accuracy: 0.9858 - val_loss: 0.0717\n",
            "Epoch 5/50\n",
            "\u001b[1m2309/2309\u001b[0m \u001b[32m━━━━━━━━━━━━━━━━━━━━\u001b[0m\u001b[37m\u001b[0m \u001b[1m7s\u001b[0m 3ms/step - accuracy: 0.9870 - loss: 0.1144 - val_accuracy: 0.9849 - val_loss: 0.0759\n",
            "Epoch 6/50\n",
            "\u001b[1m2309/2309\u001b[0m \u001b[32m━━━━━━━━━━━━━━━━━━━━\u001b[0m\u001b[37m\u001b[0m \u001b[1m7s\u001b[0m 3ms/step - accuracy: 0.9848 - loss: 0.1444 - val_accuracy: 0.9645 - val_loss: 0.2557\n",
            "Epoch 7/50\n",
            "\u001b[1m2309/2309\u001b[0m \u001b[32m━━━━━━━━━━━━━━━━━━━━\u001b[0m\u001b[37m\u001b[0m \u001b[1m7s\u001b[0m 3ms/step - accuracy: 0.9850 - loss: 0.1734 - val_accuracy: 0.9820 - val_loss: 0.0817\n",
            "Epoch 8/50\n",
            "\u001b[1m2309/2309\u001b[0m \u001b[32m━━━━━━━━━━━━━━━━━━━━\u001b[0m\u001b[37m\u001b[0m \u001b[1m11s\u001b[0m 3ms/step - accuracy: 0.9885 - loss: 0.1246 - val_accuracy: 0.9889 - val_loss: 0.0530\n",
            "Epoch 9/50\n",
            "\u001b[1m2309/2309\u001b[0m \u001b[32m━━━━━━━━━━━━━━━━━━━━\u001b[0m\u001b[37m\u001b[0m \u001b[1m10s\u001b[0m 3ms/step - accuracy: 0.9893 - loss: 0.1083 - val_accuracy: 0.9871 - val_loss: 0.0782\n",
            "Epoch 10/50\n",
            "\u001b[1m2309/2309\u001b[0m \u001b[32m━━━━━━━━━━━━━━━━━━━━\u001b[0m\u001b[37m\u001b[0m \u001b[1m10s\u001b[0m 3ms/step - accuracy: 0.9908 - loss: 0.0811 - val_accuracy: 0.9668 - val_loss: 0.1295\n",
            "Epoch 11/50\n",
            "\u001b[1m2309/2309\u001b[0m \u001b[32m━━━━━━━━━━━━━━━━━━━━\u001b[0m\u001b[37m\u001b[0m \u001b[1m7s\u001b[0m 3ms/step - accuracy: 0.9860 - loss: 0.1064 - val_accuracy: 0.9911 - val_loss: 0.0657\n",
            "Epoch 12/50\n",
            "\u001b[1m2309/2309\u001b[0m \u001b[32m━━━━━━━━━━━━━━━━━━━━\u001b[0m\u001b[37m\u001b[0m \u001b[1m10s\u001b[0m 3ms/step - accuracy: 0.9909 - loss: 0.1621 - val_accuracy: 0.9908 - val_loss: 0.0632\n",
            "Epoch 13/50\n",
            "\u001b[1m2309/2309\u001b[0m \u001b[32m━━━━━━━━━━━━━━━━━━━━\u001b[0m\u001b[37m\u001b[0m \u001b[1m10s\u001b[0m 3ms/step - accuracy: 0.9913 - loss: 0.0770 - val_accuracy: 0.9832 - val_loss: 0.1018\n",
            "Epoch 13: early stopping\n",
            "Restoring model weights from the end of the best epoch: 8.\n",
            "\u001b[1m770/770\u001b[0m \u001b[32m━━━━━━━━━━━━━━━━━━━━\u001b[0m\u001b[37m\u001b[0m \u001b[1m1s\u001b[0m 1ms/step\n"
          ]
        },
        {
          "output_type": "stream",
          "name": "stderr",
          "text": [
            "WARNING:absl:You are saving your model as an HDF5 file via `model.save()` or `keras.saving.save_model(model)`. This file format is considered legacy. We recommend using instead the native Keras format, e.g. `model.save('my_model.keras')` or `keras.saving.save_model(model, 'my_model.keras')`. \n"
          ]
        },
        {
          "output_type": "stream",
          "name": "stdout",
          "text": [
            "\n",
            "📊 Classification Report (Original MLP):\n",
            "                            precision    recall  f1-score   support\n",
            "\n",
            "            ARP_poisioning       0.92      0.97      0.94      1550\n",
            "            DDOS_Slowloris       0.71      0.97      0.82       107\n",
            "             DOS_SYN_Hping       1.00      1.00      1.00     18932\n",
            "              MQTT_Publish       1.00      1.00      1.00       829\n",
            "Metasploit_Brute_Force_SSH       0.43      0.86      0.57         7\n",
            "             NMAP_FIN_SCAN       0.57      0.67      0.62         6\n",
            "         NMAP_OS_DETECTION       1.00      1.00      1.00       400\n",
            "             NMAP_TCP_scan       1.00      1.00      1.00       200\n",
            "             NMAP_UDP_SCAN       1.00      0.92      0.95       518\n",
            "       NMAP_XMAS_TREE_SCAN       1.00      1.00      1.00       402\n",
            "               Thing_Speak       0.98      0.91      0.95      1622\n",
            "                Wipro_bulb       0.72      0.98      0.83        51\n",
            "\n",
            "                  accuracy                           0.99     24624\n",
            "                 macro avg       0.86      0.94      0.89     24624\n",
            "              weighted avg       0.99      0.99      0.99     24624\n",
            "\n",
            "\n",
            "🧩 Confusion Matrix:\n",
            "[[ 1505     6     0     3     5     3     0     1     0     0    23     4]\n",
            " [    3   104     0     0     0     0     0     0     0     0     0     0]\n",
            " [    0     0 18932     0     0     0     0     0     0     0     0     0]\n",
            " [    1     0     0   827     0     0     0     0     0     0     0     1]\n",
            " [    0     1     0     0     6     0     0     0     0     0     0     0]\n",
            " [    2     0     0     0     0     4     0     0     0     0     0     0]\n",
            " [    0     0     0     0     0     0   400     0     0     0     0     0]\n",
            " [    0     0     0     0     0     0     0   200     0     0     0     0]\n",
            " [   10    34     0     0     0     0     0     0   474     0     0     0]\n",
            " [    1     0     0     0     0     0     0     0     0   401     0     0]\n",
            " [  122     2     0     0     3     0     1     0     1     0  1479    14]\n",
            " [    0     0     0     0     0     0     0     0     0     0     1    50]]\n",
            "Saved artifact at '/tmp/tmplgl0cu0a'. The following endpoints are available:\n",
            "\n",
            "* Endpoint 'serve'\n",
            "  args_0 (POSITIONAL_ONLY): TensorSpec(shape=(None, 82), dtype=tf.float32, name='keras_tensor')\n",
            "Output Type:\n",
            "  TensorSpec(shape=(None, 12), dtype=tf.float32, name=None)\n",
            "Captures:\n",
            "  139139877639120: TensorSpec(shape=(), dtype=tf.resource, name=None)\n",
            "  139139877640272: TensorSpec(shape=(), dtype=tf.resource, name=None)\n",
            "  139139877638928: TensorSpec(shape=(), dtype=tf.resource, name=None)\n",
            "  139139877637584: TensorSpec(shape=(), dtype=tf.resource, name=None)\n",
            "  139139877640848: TensorSpec(shape=(), dtype=tf.resource, name=None)\n",
            "  139139877637776: TensorSpec(shape=(), dtype=tf.resource, name=None)\n",
            "Saved artifact at '/tmp/tmpjpgc5svw'. The following endpoints are available:\n",
            "\n",
            "* Endpoint 'serve'\n",
            "  args_0 (POSITIONAL_ONLY): TensorSpec(shape=(None, 82), dtype=tf.float32, name='keras_tensor')\n",
            "Output Type:\n",
            "  TensorSpec(shape=(None, 12), dtype=tf.float32, name=None)\n",
            "Captures:\n",
            "  139139877639120: TensorSpec(shape=(), dtype=tf.resource, name=None)\n",
            "  139139877640272: TensorSpec(shape=(), dtype=tf.resource, name=None)\n",
            "  139139877638928: TensorSpec(shape=(), dtype=tf.resource, name=None)\n",
            "  139139877637584: TensorSpec(shape=(), dtype=tf.resource, name=None)\n",
            "  139139877640848: TensorSpec(shape=(), dtype=tf.resource, name=None)\n",
            "  139139877637776: TensorSpec(shape=(), dtype=tf.resource, name=None)\n",
            "\n",
            "📦 File sizes:\n",
            " - Original Keras (.h5): 119.27 KB\n",
            " - TFLite Dynamic:       12.27 KB\n",
            " - TFLite INT8:          12.84 KB\n",
            "\n",
            "🔻 Reduction vs Original — Dynamic: 89.7% | INT8: 89.2%\n",
            "\n",
            "✅ TFLite models loaded and ran a sample inference successfully.\n"
          ]
        },
        {
          "output_type": "stream",
          "name": "stderr",
          "text": [
            "/usr/local/lib/python3.11/dist-packages/tensorflow/lite/python/convert.py:854: UserWarning: Statistics for quantized inputs were expected, but not specified; continuing anyway.\n",
            "  warnings.warn(\n",
            "/usr/local/lib/python3.11/dist-packages/tensorflow/lite/python/interpreter.py:457: UserWarning:     Warning: tf.lite.Interpreter is deprecated and is scheduled for deletion in\n",
            "    TF 2.20. Please use the LiteRT interpreter from the ai_edge_litert package.\n",
            "    See the [migration guide](https://ai.google.dev/edge/litert/migration)\n",
            "    for details.\n",
            "    \n",
            "  warnings.warn(_INTERPRETER_DELETION_WARNING)\n"
          ]
        }
      ],
      "source": [
        "import os\n",
        "import numpy as np\n",
        "import pandas as pd\n",
        "from sklearn.preprocessing import StandardScaler, LabelEncoder\n",
        "from sklearn.model_selection import train_test_split\n",
        "from sklearn.utils.class_weight import compute_class_weight\n",
        "from sklearn.metrics import classification_report, confusion_matrix\n",
        "import joblib\n",
        "import tensorflow as tf\n",
        "from tensorflow.keras import models, layers, callbacks\n",
        "\n",
        "# Load + shuffle + filter\n",
        "df = pd.read_csv('/content/RT_IOT2022_v1.csv')\n",
        "df = df.sample(frac=1, random_state=42).reset_index(drop=True)\n",
        "\n",
        "valid_attacks = [\n",
        "    'MQTT_Publish', 'Thing_Speak', 'Wipro_bulb',            # benign\n",
        "    'DOS_SYN_Hping', 'ARP_poisioning', 'NMAP_UDP_SCAN',\n",
        "    'NMAP_XMAS_TREE_SCAN', 'NMAP_OS_DETECTION', 'NMAP_TCP_scan',\n",
        "    'DDOS_Slowloris', 'Metasploit_Brute_Force_SSH', 'NMAP_FIN_SCAN'  # harmful\n",
        "]\n",
        "df = df[df['Attack_type'].isin(valid_attacks)].copy()\n",
        "\n",
        "# Labels (multiclass)\n",
        "le = LabelEncoder()\n",
        "df['attack_label'] = le.fit_transform(df['Attack_type'])\n",
        "y = df['attack_label'].values\n",
        "num_classes = len(le.classes_)\n",
        "\n",
        "# Features + scaling\n",
        "non_features = ['proto', 'service', 'Attack_type', 'attack_label']\n",
        "X_raw = df.drop(columns=non_features)\n",
        "\n",
        "scaler = StandardScaler()\n",
        "X_scaled = scaler.fit_transform(X_raw)\n",
        "\n",
        "# Save the scaler to reuse on-device or server-side preprocessing\n",
        "joblib.dump(scaler, 'scaler.joblib')\n",
        "\n",
        "# Split train/val/test\n",
        "X_temp, X_test, y_temp, y_test = train_test_split(\n",
        "    X_scaled, y, test_size=0.20, stratify=y, random_state=42\n",
        ")\n",
        "X_train, X_val, y_train, y_val = train_test_split(\n",
        "    X_temp, y_temp, test_size=0.25, stratify=y_temp, random_state=42\n",
        ")  # => 60/20/20\n",
        "\n",
        "# Class weights (helps rare classes)\n",
        "class_weights = compute_class_weight(\n",
        "    class_weight='balanced',\n",
        "    classes=np.unique(y_train),\n",
        "    y=y_train\n",
        ")\n",
        "class_weight_dict = {i: w for i, w in enumerate(class_weights)}\n",
        "\n",
        "# Build lightweight MLP\n",
        "model = models.Sequential([\n",
        "    layers.Input(shape=(X_train.shape[1],)),\n",
        "    layers.Dense(64, activation='relu'),\n",
        "    layers.Dense(32, activation='relu'),\n",
        "    layers.Dense(num_classes, activation='softmax')\n",
        "])\n",
        "\n",
        "model.compile(optimizer='adam', loss='sparse_categorical_crossentropy', metrics=['accuracy'])\n",
        "\n",
        "early_stop = callbacks.EarlyStopping(\n",
        "    monitor='val_loss', patience=5, restore_best_weights=True, verbose=1\n",
        ")\n",
        "\n",
        "history = model.fit(\n",
        "    X_train, y_train,\n",
        "    validation_data=(X_val, y_val),\n",
        "    epochs=50,\n",
        "    batch_size=32,\n",
        "    class_weight=class_weight_dict,\n",
        "    callbacks=[early_stop],\n",
        "    verbose=1\n",
        ")\n",
        "\n",
        "# Evaluate original MLP\n",
        "y_pred_prob = model.predict(X_test)\n",
        "y_pred = np.argmax(y_pred_prob, axis=1)\n",
        "\n",
        "print(\"\\n📊 Classification Report (Original MLP):\")\n",
        "print(classification_report(y_test, y_pred, target_names=le.classes_))\n",
        "print(\"\\n🧩 Confusion Matrix:\")\n",
        "print(confusion_matrix(y_test, y_pred))\n",
        "\n",
        "# Save original MLP\n",
        "original_path = 'original_mlp_model.h5'\n",
        "model.save(original_path)\n",
        "\n",
        "# TFLite (Dynamic Range) quantization\n",
        "converter = tf.lite.TFLiteConverter.from_keras_model(model)\n",
        "converter.optimizations = [tf.lite.Optimize.DEFAULT]   # dynamic-range quant\n",
        "tflite_dynamic = converter.convert()\n",
        "\n",
        "dynamic_path = 'model_dynamic.tflite'\n",
        "with open(dynamic_path, 'wb') as f:\n",
        "    f.write(tflite_dynamic)\n",
        "\n",
        "# TFLite (Full INT8) quantization\n",
        "#     Uses representative data for proper calibration.\n",
        "#     Note: INT8 IO requires int8 tensors on-device; keep scaler in pipeline.\n",
        "def representative_data_gen():\n",
        "    # Take a small sample from training data (float32) for calibration\n",
        "    for i in range(min(200, X_train.shape[0])):\n",
        "        yield [X_train[i:i+1].astype(np.float32)]\n",
        "\n",
        "converter_int8 = tf.lite.TFLiteConverter.from_keras_model(model)\n",
        "converter_int8.optimizations = [tf.lite.Optimize.DEFAULT]\n",
        "converter_int8.representative_dataset = representative_data_gen\n",
        "converter_int8.target_spec.supported_ops = [tf.lite.OpsSet.TFLITE_BUILTINS_INT8]\n",
        "converter_int8.inference_input_type = tf.int8\n",
        "converter_int8.inference_output_type = tf.int8\n",
        "tflite_int8 = converter_int8.convert()\n",
        "\n",
        "int8_path = 'model_int8.tflite'\n",
        "with open(int8_path, 'wb') as f:\n",
        "    f.write(tflite_int8)\n",
        "\n",
        "# Size comparison\n",
        "def size_kb(p): return os.path.getsize(p) / 1024\n",
        "print(\"\\n📦 File sizes:\")\n",
        "print(f\" - Original Keras (.h5): {size_kb(original_path):.2f} KB\")\n",
        "print(f\" - TFLite Dynamic:       {size_kb(dynamic_path):.2f} KB\")\n",
        "print(f\" - TFLite INT8:          {size_kb(int8_path):.2f} KB\")\n",
        "\n",
        "reduction_dyn = 100 * (size_kb(original_path) - size_kb(dynamic_path)) / size_kb(original_path)\n",
        "reduction_int8 = 100 * (size_kb(original_path) - size_kb(int8_path)) / size_kb(original_path)\n",
        "print(f\"\\n🔻 Reduction vs Original — Dynamic: {reduction_dyn:.1f}% | INT8: {reduction_int8:.1f}%\")\n",
        "\n",
        "# quick TFLite sanity check\n",
        "def tflite_infer(model_path, sample):\n",
        "    interpreter = tf.lite.Interpreter(model_path=model_path)\n",
        "    interpreter.allocate_tensors()\n",
        "    inp = interpreter.get_input_details()[0]\n",
        "    out = interpreter.get_output_details()[0]\n",
        "    x = sample.astype(np.float32)\n",
        "\n",
        "    # For INT8 model, quantize input using input scale/zero-point\n",
        "    if 'int8' in model_path:\n",
        "        scale, zero = inp['quantization']\n",
        "        x = (x / scale + zero).astype(np.int8)\n",
        "\n",
        "    interpreter.set_tensor(inp['index'], x)\n",
        "    interpreter.invoke()\n",
        "    y = interpreter.get_tensor(out['index'])\n",
        "\n",
        "    # Dequantize INT8 output back to float for readability\n",
        "    if 'int8' in model_path:\n",
        "        scale, zero = out['quantization']\n",
        "        y = (y.astype(np.float32) - zero) * scale\n",
        "    return y\n",
        "\n",
        "sample = X_test[:1]\n",
        "_ = tflite_infer(dynamic_path, sample)\n",
        "_ = tflite_infer(int8_path, sample)\n",
        "print(\"\\n✅ TFLite models loaded and ran a sample inference successfully.\")\n"
      ]
    }
  ]
}